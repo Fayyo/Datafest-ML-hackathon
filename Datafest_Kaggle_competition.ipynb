{
  "nbformat": 4,
  "nbformat_minor": 0,
  "metadata": {
    "colab": {
      "provenance": []
    },
    "kernelspec": {
      "name": "python3",
      "display_name": "Python 3"
    },
    "language_info": {
      "name": "python"
    }
  },
  "cells": [
    {
      "cell_type": "markdown",
      "source": [
        "# Exploratory Data Analysis"
      ],
      "metadata": {
        "id": "CQKARRxBnmzq"
      }
    },
    {
      "cell_type": "code",
      "source": [
        "# Importing Libraries\n",
        "import pandas as pd\n",
        "import numpy as np\n",
        "import matplotlib.pyplot as plt\n",
        "import seaborn as sns"
      ],
      "metadata": {
        "id": "bdLalQqiOD0w"
      },
      "execution_count": null,
      "outputs": []
    },
    {
      "cell_type": "code",
      "source": [
        "# Loading in and viewing the train dataset \n",
        "df = pd.read_csv('train.csv')\n",
        "df.head()"
      ],
      "metadata": {
        "colab": {
          "base_uri": "https://localhost:8080/",
          "height": 300
        },
        "id": "fXSC6J94OH8O",
        "outputId": "73737770-f7c2-43d5-ff64-454b0dd8b95d"
      },
      "execution_count": null,
      "outputs": [
        {
          "output_type": "execute_result",
          "data": {
            "text/plain": [
              "   Entry_id  age  pay_schedule  home_owner  income  months_employed  \\\n",
              "0   7629673   40     bi-weekly           1    3135                0   \n",
              "1   5335819   33  semi-monthly           0    3590                0   \n",
              "2   8492423   21        weekly           0    2303                0   \n",
              "3   7948313   26     bi-weekly           0    2795                0   \n",
              "4   4297036   43     bi-weekly           0    5000                0   \n",
              "\n",
              "   years_employed  current_address_year  personal_account_m  \\\n",
              "0               3                     3                   6   \n",
              "1               5                     2                   2   \n",
              "2               5                     8                   2   \n",
              "3               4                     4                   1   \n",
              "4               2                     1                   1   \n",
              "\n",
              "   personal_account_y  ...  amount_requested  risk_score  risk_score_2  \\\n",
              "0                   2  ...               550       36200      0.737398   \n",
              "1                   8  ...              1100       53850      0.617361   \n",
              "2                   7  ...               600       74850      0.677109   \n",
              "3                   6  ...               800       50800      0.738055   \n",
              "4                   2  ...              1100       69100      0.798303   \n",
              "\n",
              "   risk_score_3  risk_score_4  risk_score_5  ext_quality_score  \\\n",
              "0      0.903517      0.487712      0.515977           0.580918   \n",
              "1      0.857560      0.613487      0.665523           0.744634   \n",
              "2      0.758765      0.495609      0.664762           0.592556   \n",
              "3      0.873204      0.666437      0.700392           0.584130   \n",
              "4      0.841747      0.401971      0.568787           0.525905   \n",
              "\n",
              "   ext_quality_score_2  inquiries_last_month  e_signed  \n",
              "0             0.380918                    10         1  \n",
              "1             0.744634                    12         0  \n",
              "2             0.492556                     6         1  \n",
              "3             0.684130                    14         1  \n",
              "4             0.725905                     5         1  \n",
              "\n",
              "[5 rows x 21 columns]"
            ],
            "text/html": [
              "\n",
              "  <div id=\"df-52883ac3-db20-4e41-8653-c8956176c63d\">\n",
              "    <div class=\"colab-df-container\">\n",
              "      <div>\n",
              "<style scoped>\n",
              "    .dataframe tbody tr th:only-of-type {\n",
              "        vertical-align: middle;\n",
              "    }\n",
              "\n",
              "    .dataframe tbody tr th {\n",
              "        vertical-align: top;\n",
              "    }\n",
              "\n",
              "    .dataframe thead th {\n",
              "        text-align: right;\n",
              "    }\n",
              "</style>\n",
              "<table border=\"1\" class=\"dataframe\">\n",
              "  <thead>\n",
              "    <tr style=\"text-align: right;\">\n",
              "      <th></th>\n",
              "      <th>Entry_id</th>\n",
              "      <th>age</th>\n",
              "      <th>pay_schedule</th>\n",
              "      <th>home_owner</th>\n",
              "      <th>income</th>\n",
              "      <th>months_employed</th>\n",
              "      <th>years_employed</th>\n",
              "      <th>current_address_year</th>\n",
              "      <th>personal_account_m</th>\n",
              "      <th>personal_account_y</th>\n",
              "      <th>...</th>\n",
              "      <th>amount_requested</th>\n",
              "      <th>risk_score</th>\n",
              "      <th>risk_score_2</th>\n",
              "      <th>risk_score_3</th>\n",
              "      <th>risk_score_4</th>\n",
              "      <th>risk_score_5</th>\n",
              "      <th>ext_quality_score</th>\n",
              "      <th>ext_quality_score_2</th>\n",
              "      <th>inquiries_last_month</th>\n",
              "      <th>e_signed</th>\n",
              "    </tr>\n",
              "  </thead>\n",
              "  <tbody>\n",
              "    <tr>\n",
              "      <th>0</th>\n",
              "      <td>7629673</td>\n",
              "      <td>40</td>\n",
              "      <td>bi-weekly</td>\n",
              "      <td>1</td>\n",
              "      <td>3135</td>\n",
              "      <td>0</td>\n",
              "      <td>3</td>\n",
              "      <td>3</td>\n",
              "      <td>6</td>\n",
              "      <td>2</td>\n",
              "      <td>...</td>\n",
              "      <td>550</td>\n",
              "      <td>36200</td>\n",
              "      <td>0.737398</td>\n",
              "      <td>0.903517</td>\n",
              "      <td>0.487712</td>\n",
              "      <td>0.515977</td>\n",
              "      <td>0.580918</td>\n",
              "      <td>0.380918</td>\n",
              "      <td>10</td>\n",
              "      <td>1</td>\n",
              "    </tr>\n",
              "    <tr>\n",
              "      <th>1</th>\n",
              "      <td>5335819</td>\n",
              "      <td>33</td>\n",
              "      <td>semi-monthly</td>\n",
              "      <td>0</td>\n",
              "      <td>3590</td>\n",
              "      <td>0</td>\n",
              "      <td>5</td>\n",
              "      <td>2</td>\n",
              "      <td>2</td>\n",
              "      <td>8</td>\n",
              "      <td>...</td>\n",
              "      <td>1100</td>\n",
              "      <td>53850</td>\n",
              "      <td>0.617361</td>\n",
              "      <td>0.857560</td>\n",
              "      <td>0.613487</td>\n",
              "      <td>0.665523</td>\n",
              "      <td>0.744634</td>\n",
              "      <td>0.744634</td>\n",
              "      <td>12</td>\n",
              "      <td>0</td>\n",
              "    </tr>\n",
              "    <tr>\n",
              "      <th>2</th>\n",
              "      <td>8492423</td>\n",
              "      <td>21</td>\n",
              "      <td>weekly</td>\n",
              "      <td>0</td>\n",
              "      <td>2303</td>\n",
              "      <td>0</td>\n",
              "      <td>5</td>\n",
              "      <td>8</td>\n",
              "      <td>2</td>\n",
              "      <td>7</td>\n",
              "      <td>...</td>\n",
              "      <td>600</td>\n",
              "      <td>74850</td>\n",
              "      <td>0.677109</td>\n",
              "      <td>0.758765</td>\n",
              "      <td>0.495609</td>\n",
              "      <td>0.664762</td>\n",
              "      <td>0.592556</td>\n",
              "      <td>0.492556</td>\n",
              "      <td>6</td>\n",
              "      <td>1</td>\n",
              "    </tr>\n",
              "    <tr>\n",
              "      <th>3</th>\n",
              "      <td>7948313</td>\n",
              "      <td>26</td>\n",
              "      <td>bi-weekly</td>\n",
              "      <td>0</td>\n",
              "      <td>2795</td>\n",
              "      <td>0</td>\n",
              "      <td>4</td>\n",
              "      <td>4</td>\n",
              "      <td>1</td>\n",
              "      <td>6</td>\n",
              "      <td>...</td>\n",
              "      <td>800</td>\n",
              "      <td>50800</td>\n",
              "      <td>0.738055</td>\n",
              "      <td>0.873204</td>\n",
              "      <td>0.666437</td>\n",
              "      <td>0.700392</td>\n",
              "      <td>0.584130</td>\n",
              "      <td>0.684130</td>\n",
              "      <td>14</td>\n",
              "      <td>1</td>\n",
              "    </tr>\n",
              "    <tr>\n",
              "      <th>4</th>\n",
              "      <td>4297036</td>\n",
              "      <td>43</td>\n",
              "      <td>bi-weekly</td>\n",
              "      <td>0</td>\n",
              "      <td>5000</td>\n",
              "      <td>0</td>\n",
              "      <td>2</td>\n",
              "      <td>1</td>\n",
              "      <td>1</td>\n",
              "      <td>2</td>\n",
              "      <td>...</td>\n",
              "      <td>1100</td>\n",
              "      <td>69100</td>\n",
              "      <td>0.798303</td>\n",
              "      <td>0.841747</td>\n",
              "      <td>0.401971</td>\n",
              "      <td>0.568787</td>\n",
              "      <td>0.525905</td>\n",
              "      <td>0.725905</td>\n",
              "      <td>5</td>\n",
              "      <td>1</td>\n",
              "    </tr>\n",
              "  </tbody>\n",
              "</table>\n",
              "<p>5 rows × 21 columns</p>\n",
              "</div>\n",
              "      <button class=\"colab-df-convert\" onclick=\"convertToInteractive('df-52883ac3-db20-4e41-8653-c8956176c63d')\"\n",
              "              title=\"Convert this dataframe to an interactive table.\"\n",
              "              style=\"display:none;\">\n",
              "        \n",
              "  <svg xmlns=\"http://www.w3.org/2000/svg\" height=\"24px\"viewBox=\"0 0 24 24\"\n",
              "       width=\"24px\">\n",
              "    <path d=\"M0 0h24v24H0V0z\" fill=\"none\"/>\n",
              "    <path d=\"M18.56 5.44l.94 2.06.94-2.06 2.06-.94-2.06-.94-.94-2.06-.94 2.06-2.06.94zm-11 1L8.5 8.5l.94-2.06 2.06-.94-2.06-.94L8.5 2.5l-.94 2.06-2.06.94zm10 10l.94 2.06.94-2.06 2.06-.94-2.06-.94-.94-2.06-.94 2.06-2.06.94z\"/><path d=\"M17.41 7.96l-1.37-1.37c-.4-.4-.92-.59-1.43-.59-.52 0-1.04.2-1.43.59L10.3 9.45l-7.72 7.72c-.78.78-.78 2.05 0 2.83L4 21.41c.39.39.9.59 1.41.59.51 0 1.02-.2 1.41-.59l7.78-7.78 2.81-2.81c.8-.78.8-2.07 0-2.86zM5.41 20L4 18.59l7.72-7.72 1.47 1.35L5.41 20z\"/>\n",
              "  </svg>\n",
              "      </button>\n",
              "      \n",
              "  <style>\n",
              "    .colab-df-container {\n",
              "      display:flex;\n",
              "      flex-wrap:wrap;\n",
              "      gap: 12px;\n",
              "    }\n",
              "\n",
              "    .colab-df-convert {\n",
              "      background-color: #E8F0FE;\n",
              "      border: none;\n",
              "      border-radius: 50%;\n",
              "      cursor: pointer;\n",
              "      display: none;\n",
              "      fill: #1967D2;\n",
              "      height: 32px;\n",
              "      padding: 0 0 0 0;\n",
              "      width: 32px;\n",
              "    }\n",
              "\n",
              "    .colab-df-convert:hover {\n",
              "      background-color: #E2EBFA;\n",
              "      box-shadow: 0px 1px 2px rgba(60, 64, 67, 0.3), 0px 1px 3px 1px rgba(60, 64, 67, 0.15);\n",
              "      fill: #174EA6;\n",
              "    }\n",
              "\n",
              "    [theme=dark] .colab-df-convert {\n",
              "      background-color: #3B4455;\n",
              "      fill: #D2E3FC;\n",
              "    }\n",
              "\n",
              "    [theme=dark] .colab-df-convert:hover {\n",
              "      background-color: #434B5C;\n",
              "      box-shadow: 0px 1px 3px 1px rgba(0, 0, 0, 0.15);\n",
              "      filter: drop-shadow(0px 1px 2px rgba(0, 0, 0, 0.3));\n",
              "      fill: #FFFFFF;\n",
              "    }\n",
              "  </style>\n",
              "\n",
              "      <script>\n",
              "        const buttonEl =\n",
              "          document.querySelector('#df-52883ac3-db20-4e41-8653-c8956176c63d button.colab-df-convert');\n",
              "        buttonEl.style.display =\n",
              "          google.colab.kernel.accessAllowed ? 'block' : 'none';\n",
              "\n",
              "        async function convertToInteractive(key) {\n",
              "          const element = document.querySelector('#df-52883ac3-db20-4e41-8653-c8956176c63d');\n",
              "          const dataTable =\n",
              "            await google.colab.kernel.invokeFunction('convertToInteractive',\n",
              "                                                     [key], {});\n",
              "          if (!dataTable) return;\n",
              "\n",
              "          const docLinkHtml = 'Like what you see? Visit the ' +\n",
              "            '<a target=\"_blank\" href=https://colab.research.google.com/notebooks/data_table.ipynb>data table notebook</a>'\n",
              "            + ' to learn more about interactive tables.';\n",
              "          element.innerHTML = '';\n",
              "          dataTable['output_type'] = 'display_data';\n",
              "          await google.colab.output.renderOutput(dataTable, element);\n",
              "          const docLink = document.createElement('div');\n",
              "          docLink.innerHTML = docLinkHtml;\n",
              "          element.appendChild(docLink);\n",
              "        }\n",
              "      </script>\n",
              "    </div>\n",
              "  </div>\n",
              "  "
            ]
          },
          "metadata": {},
          "execution_count": 121
        }
      ]
    },
    {
      "cell_type": "code",
      "source": [
        "# Looking at the datatypes of each column\n",
        "df.info()"
      ],
      "metadata": {
        "id": "Qt1_9kouOOi3",
        "colab": {
          "base_uri": "https://localhost:8080/"
        },
        "outputId": "805d900c-4c68-4bcc-f3c8-ac8b3c922b57"
      },
      "execution_count": null,
      "outputs": [
        {
          "output_type": "stream",
          "name": "stdout",
          "text": [
            "<class 'pandas.core.frame.DataFrame'>\n",
            "RangeIndex: 12516 entries, 0 to 12515\n",
            "Data columns (total 21 columns):\n",
            " #   Column                Non-Null Count  Dtype  \n",
            "---  ------                --------------  -----  \n",
            " 0   Entry_id              12516 non-null  int64  \n",
            " 1   age                   12516 non-null  int64  \n",
            " 2   pay_schedule          12516 non-null  object \n",
            " 3   home_owner            12516 non-null  int64  \n",
            " 4   income                12516 non-null  int64  \n",
            " 5   months_employed       12516 non-null  int64  \n",
            " 6   years_employed        12516 non-null  int64  \n",
            " 7   current_address_year  12516 non-null  int64  \n",
            " 8   personal_account_m    12516 non-null  int64  \n",
            " 9   personal_account_y    12516 non-null  int64  \n",
            " 10  has_debt              12516 non-null  int64  \n",
            " 11  amount_requested      12516 non-null  int64  \n",
            " 12  risk_score            12516 non-null  int64  \n",
            " 13  risk_score_2          12516 non-null  float64\n",
            " 14  risk_score_3          12516 non-null  float64\n",
            " 15  risk_score_4          12516 non-null  float64\n",
            " 16  risk_score_5          12516 non-null  float64\n",
            " 17  ext_quality_score     12516 non-null  float64\n",
            " 18  ext_quality_score_2   12516 non-null  float64\n",
            " 19  inquiries_last_month  12516 non-null  int64  \n",
            " 20  e_signed              12516 non-null  int64  \n",
            "dtypes: float64(6), int64(14), object(1)\n",
            "memory usage: 2.0+ MB\n"
          ]
        }
      ]
    },
    {
      "cell_type": "code",
      "source": [
        "# Checking for null columns in the dataset\n",
        "df.isnull().sum()"
      ],
      "metadata": {
        "id": "CYU-1mF2Po_R",
        "colab": {
          "base_uri": "https://localhost:8080/"
        },
        "outputId": "428e4202-c5bf-4f81-d45f-097169e82472"
      },
      "execution_count": null,
      "outputs": [
        {
          "output_type": "execute_result",
          "data": {
            "text/plain": [
              "Entry_id                0\n",
              "age                     0\n",
              "pay_schedule            0\n",
              "home_owner              0\n",
              "income                  0\n",
              "months_employed         0\n",
              "years_employed          0\n",
              "current_address_year    0\n",
              "personal_account_m      0\n",
              "personal_account_y      0\n",
              "has_debt                0\n",
              "amount_requested        0\n",
              "risk_score              0\n",
              "risk_score_2            0\n",
              "risk_score_3            0\n",
              "risk_score_4            0\n",
              "risk_score_5            0\n",
              "ext_quality_score       0\n",
              "ext_quality_score_2     0\n",
              "inquiries_last_month    0\n",
              "e_signed                0\n",
              "dtype: int64"
            ]
          },
          "metadata": {},
          "execution_count": 67
        }
      ]
    },
    {
      "cell_type": "code",
      "source": [
        "# Exploring the Entry id column\n",
        "df['Entry_id'].value_counts().head(7)"
      ],
      "metadata": {
        "id": "QpS2mlJVF9uE",
        "colab": {
          "base_uri": "https://localhost:8080/"
        },
        "outputId": "c065136e-da46-4c45-d74e-59d0d6b31aac"
      },
      "execution_count": null,
      "outputs": [
        {
          "output_type": "execute_result",
          "data": {
            "text/plain": [
              "5896278    2\n",
              "5659209    2\n",
              "5946902    2\n",
              "3903643    2\n",
              "8156839    2\n",
              "7450902    2\n",
              "5656521    1\n",
              "Name: Entry_id, dtype: int64"
            ]
          },
          "metadata": {},
          "execution_count": 68
        }
      ]
    },
    {
      "cell_type": "code",
      "source": [
        "# Looking at one of the duplicate entry ids\n",
        "df[df['Entry_id'] == 5896278]"
      ],
      "metadata": {
        "id": "qdUkfuPqG45h",
        "colab": {
          "base_uri": "https://localhost:8080/",
          "height": 205
        },
        "outputId": "1718cd6e-f4c1-4436-ae37-c71c56ee7d17"
      },
      "execution_count": null,
      "outputs": [
        {
          "output_type": "execute_result",
          "data": {
            "text/plain": [
              "       Entry_id  age pay_schedule  home_owner  income  months_employed  \\\n",
              "5361    5896278   31       weekly           0    1635                0   \n",
              "11829   5896278   30    bi-weekly           0    3795                0   \n",
              "\n",
              "       years_employed  current_address_year  personal_account_m  \\\n",
              "5361                6                     5                   2   \n",
              "11829               2                     3                   1   \n",
              "\n",
              "       personal_account_y  ...  amount_requested  risk_score  risk_score_2  \\\n",
              "5361                    2  ...               400       73200      0.797840   \n",
              "11829                   3  ...               800       50650      0.760728   \n",
              "\n",
              "       risk_score_3  risk_score_4  risk_score_5  ext_quality_score  \\\n",
              "5361       0.849569      0.687969      0.741433           0.696454   \n",
              "11829      0.850893      0.573459      0.606560           0.564857   \n",
              "\n",
              "       ext_quality_score_2  inquiries_last_month  e_signed  \n",
              "5361              0.696454                     6         0  \n",
              "11829             0.564857                     4         1  \n",
              "\n",
              "[2 rows x 21 columns]"
            ],
            "text/html": [
              "\n",
              "  <div id=\"df-4f21d209-e5fa-4e66-a940-eb0fb8695a7c\">\n",
              "    <div class=\"colab-df-container\">\n",
              "      <div>\n",
              "<style scoped>\n",
              "    .dataframe tbody tr th:only-of-type {\n",
              "        vertical-align: middle;\n",
              "    }\n",
              "\n",
              "    .dataframe tbody tr th {\n",
              "        vertical-align: top;\n",
              "    }\n",
              "\n",
              "    .dataframe thead th {\n",
              "        text-align: right;\n",
              "    }\n",
              "</style>\n",
              "<table border=\"1\" class=\"dataframe\">\n",
              "  <thead>\n",
              "    <tr style=\"text-align: right;\">\n",
              "      <th></th>\n",
              "      <th>Entry_id</th>\n",
              "      <th>age</th>\n",
              "      <th>pay_schedule</th>\n",
              "      <th>home_owner</th>\n",
              "      <th>income</th>\n",
              "      <th>months_employed</th>\n",
              "      <th>years_employed</th>\n",
              "      <th>current_address_year</th>\n",
              "      <th>personal_account_m</th>\n",
              "      <th>personal_account_y</th>\n",
              "      <th>...</th>\n",
              "      <th>amount_requested</th>\n",
              "      <th>risk_score</th>\n",
              "      <th>risk_score_2</th>\n",
              "      <th>risk_score_3</th>\n",
              "      <th>risk_score_4</th>\n",
              "      <th>risk_score_5</th>\n",
              "      <th>ext_quality_score</th>\n",
              "      <th>ext_quality_score_2</th>\n",
              "      <th>inquiries_last_month</th>\n",
              "      <th>e_signed</th>\n",
              "    </tr>\n",
              "  </thead>\n",
              "  <tbody>\n",
              "    <tr>\n",
              "      <th>5361</th>\n",
              "      <td>5896278</td>\n",
              "      <td>31</td>\n",
              "      <td>weekly</td>\n",
              "      <td>0</td>\n",
              "      <td>1635</td>\n",
              "      <td>0</td>\n",
              "      <td>6</td>\n",
              "      <td>5</td>\n",
              "      <td>2</td>\n",
              "      <td>2</td>\n",
              "      <td>...</td>\n",
              "      <td>400</td>\n",
              "      <td>73200</td>\n",
              "      <td>0.797840</td>\n",
              "      <td>0.849569</td>\n",
              "      <td>0.687969</td>\n",
              "      <td>0.741433</td>\n",
              "      <td>0.696454</td>\n",
              "      <td>0.696454</td>\n",
              "      <td>6</td>\n",
              "      <td>0</td>\n",
              "    </tr>\n",
              "    <tr>\n",
              "      <th>11829</th>\n",
              "      <td>5896278</td>\n",
              "      <td>30</td>\n",
              "      <td>bi-weekly</td>\n",
              "      <td>0</td>\n",
              "      <td>3795</td>\n",
              "      <td>0</td>\n",
              "      <td>2</td>\n",
              "      <td>3</td>\n",
              "      <td>1</td>\n",
              "      <td>3</td>\n",
              "      <td>...</td>\n",
              "      <td>800</td>\n",
              "      <td>50650</td>\n",
              "      <td>0.760728</td>\n",
              "      <td>0.850893</td>\n",
              "      <td>0.573459</td>\n",
              "      <td>0.606560</td>\n",
              "      <td>0.564857</td>\n",
              "      <td>0.564857</td>\n",
              "      <td>4</td>\n",
              "      <td>1</td>\n",
              "    </tr>\n",
              "  </tbody>\n",
              "</table>\n",
              "<p>2 rows × 21 columns</p>\n",
              "</div>\n",
              "      <button class=\"colab-df-convert\" onclick=\"convertToInteractive('df-4f21d209-e5fa-4e66-a940-eb0fb8695a7c')\"\n",
              "              title=\"Convert this dataframe to an interactive table.\"\n",
              "              style=\"display:none;\">\n",
              "        \n",
              "  <svg xmlns=\"http://www.w3.org/2000/svg\" height=\"24px\"viewBox=\"0 0 24 24\"\n",
              "       width=\"24px\">\n",
              "    <path d=\"M0 0h24v24H0V0z\" fill=\"none\"/>\n",
              "    <path d=\"M18.56 5.44l.94 2.06.94-2.06 2.06-.94-2.06-.94-.94-2.06-.94 2.06-2.06.94zm-11 1L8.5 8.5l.94-2.06 2.06-.94-2.06-.94L8.5 2.5l-.94 2.06-2.06.94zm10 10l.94 2.06.94-2.06 2.06-.94-2.06-.94-.94-2.06-.94 2.06-2.06.94z\"/><path d=\"M17.41 7.96l-1.37-1.37c-.4-.4-.92-.59-1.43-.59-.52 0-1.04.2-1.43.59L10.3 9.45l-7.72 7.72c-.78.78-.78 2.05 0 2.83L4 21.41c.39.39.9.59 1.41.59.51 0 1.02-.2 1.41-.59l7.78-7.78 2.81-2.81c.8-.78.8-2.07 0-2.86zM5.41 20L4 18.59l7.72-7.72 1.47 1.35L5.41 20z\"/>\n",
              "  </svg>\n",
              "      </button>\n",
              "      \n",
              "  <style>\n",
              "    .colab-df-container {\n",
              "      display:flex;\n",
              "      flex-wrap:wrap;\n",
              "      gap: 12px;\n",
              "    }\n",
              "\n",
              "    .colab-df-convert {\n",
              "      background-color: #E8F0FE;\n",
              "      border: none;\n",
              "      border-radius: 50%;\n",
              "      cursor: pointer;\n",
              "      display: none;\n",
              "      fill: #1967D2;\n",
              "      height: 32px;\n",
              "      padding: 0 0 0 0;\n",
              "      width: 32px;\n",
              "    }\n",
              "\n",
              "    .colab-df-convert:hover {\n",
              "      background-color: #E2EBFA;\n",
              "      box-shadow: 0px 1px 2px rgba(60, 64, 67, 0.3), 0px 1px 3px 1px rgba(60, 64, 67, 0.15);\n",
              "      fill: #174EA6;\n",
              "    }\n",
              "\n",
              "    [theme=dark] .colab-df-convert {\n",
              "      background-color: #3B4455;\n",
              "      fill: #D2E3FC;\n",
              "    }\n",
              "\n",
              "    [theme=dark] .colab-df-convert:hover {\n",
              "      background-color: #434B5C;\n",
              "      box-shadow: 0px 1px 3px 1px rgba(0, 0, 0, 0.15);\n",
              "      filter: drop-shadow(0px 1px 2px rgba(0, 0, 0, 0.3));\n",
              "      fill: #FFFFFF;\n",
              "    }\n",
              "  </style>\n",
              "\n",
              "      <script>\n",
              "        const buttonEl =\n",
              "          document.querySelector('#df-4f21d209-e5fa-4e66-a940-eb0fb8695a7c button.colab-df-convert');\n",
              "        buttonEl.style.display =\n",
              "          google.colab.kernel.accessAllowed ? 'block' : 'none';\n",
              "\n",
              "        async function convertToInteractive(key) {\n",
              "          const element = document.querySelector('#df-4f21d209-e5fa-4e66-a940-eb0fb8695a7c');\n",
              "          const dataTable =\n",
              "            await google.colab.kernel.invokeFunction('convertToInteractive',\n",
              "                                                     [key], {});\n",
              "          if (!dataTable) return;\n",
              "\n",
              "          const docLinkHtml = 'Like what you see? Visit the ' +\n",
              "            '<a target=\"_blank\" href=https://colab.research.google.com/notebooks/data_table.ipynb>data table notebook</a>'\n",
              "            + ' to learn more about interactive tables.';\n",
              "          element.innerHTML = '';\n",
              "          dataTable['output_type'] = 'display_data';\n",
              "          await google.colab.output.renderOutput(dataTable, element);\n",
              "          const docLink = document.createElement('div');\n",
              "          docLink.innerHTML = docLinkHtml;\n",
              "          element.appendChild(docLink);\n",
              "        }\n",
              "      </script>\n",
              "    </div>\n",
              "  </div>\n",
              "  "
            ]
          },
          "metadata": {},
          "execution_count": 69
        }
      ]
    },
    {
      "cell_type": "code",
      "source": [
        "# Exploring the Pay schedule column\n",
        "df['pay_schedule'].value_counts()   "
      ],
      "metadata": {
        "id": "U_s8hlTDQ9se",
        "colab": {
          "base_uri": "https://localhost:8080/"
        },
        "outputId": "7aeed25f-3bee-4ece-847d-c80154098298"
      },
      "execution_count": null,
      "outputs": [
        {
          "output_type": "execute_result",
          "data": {
            "text/plain": [
              "bi-weekly       7447\n",
              "weekly          2627\n",
              "semi-monthly    1388\n",
              "monthly         1054\n",
              "Name: pay_schedule, dtype: int64"
            ]
          },
          "metadata": {},
          "execution_count": 70
        }
      ]
    },
    {
      "cell_type": "code",
      "source": [
        "plt.figure(figsize=(8,6))\n",
        "df['pay_schedule'].value_counts().plot(kind='barh') \n",
        "plt.xlabel('Payment Schedule')\n",
        "plt.title('Distribution of Payment Schehdules');\n",
        "                        "
      ],
      "metadata": {
        "id": "3JNy9JBtBmWZ",
        "colab": {
          "base_uri": "https://localhost:8080/",
          "height": 404
        },
        "outputId": "6c21a315-98e9-49eb-9aef-ba98847cef1e"
      },
      "execution_count": null,
      "outputs": [
        {
          "output_type": "display_data",
          "data": {
            "text/plain": [
              "<Figure size 576x432 with 1 Axes>"
            ],
            "image/png": "[encoded data removed]"
          },
          "metadata": {
            "needs_background": "light"
          }
        }
      ]
    },
    {
      "cell_type": "code",
      "source": [
        "# Exploring the age column\n",
        "df['age'].nunique()\n"
      ],
      "metadata": {
        "id": "vNsKT2mzRgiw",
        "colab": {
          "base_uri": "https://localhost:8080/"
        },
        "outputId": "9cb8d94b-f73a-49b7-8cc1-dd5cacf7dab5"
      },
      "execution_count": null,
      "outputs": [
        {
          "output_type": "execute_result",
          "data": {
            "text/plain": [
              "72"
            ]
          },
          "metadata": {},
          "execution_count": 72
        }
      ]
    },
    {
      "cell_type": "code",
      "source": [
        "df['age'].value_counts().head(10)"
      ],
      "metadata": {
        "id": "7L9Vo37YRgdU",
        "colab": {
          "base_uri": "https://localhost:8080/"
        },
        "outputId": "306e24d6-6a30-4505-d95c-66f07934b857"
      },
      "execution_count": null,
      "outputs": [
        {
          "output_type": "execute_result",
          "data": {
            "text/plain": [
              "43    402\n",
              "37    392\n",
              "42    388\n",
              "39    384\n",
              "34    382\n",
              "44    376\n",
              "38    370\n",
              "40    362\n",
              "45    360\n",
              "46    358\n",
              "Name: age, dtype: int64"
            ]
          },
          "metadata": {},
          "execution_count": 73
        }
      ]
    },
    {
      "cell_type": "code",
      "source": [
        "plt.figure(figsize=(8,6))\n",
        "df['age'].hist(bins=25)\n",
        "plt.xlabel('Age Brackets')\n",
        "plt.title('Age Frequency');"
      ],
      "metadata": {
        "id": "NZkUFr0sDOyy",
        "colab": {
          "base_uri": "https://localhost:8080/",
          "height": 404
        },
        "outputId": "25c08f88-6a0a-4af7-f2ac-de8aa9453969"
      },
      "execution_count": null,
      "outputs": [
        {
          "output_type": "display_data",
          "data": {
            "text/plain": [
              "<Figure size 576x432 with 1 Axes>"
            ],
            "image/png": "[encoded data removed]"
          },
          "metadata": {
            "needs_background": "light"
          }
        }
      ]
    },
    {
      "cell_type": "code",
      "source": [
        "df['home_owner'].value_counts(normalize=True)"
      ],
      "metadata": {
        "colab": {
          "base_uri": "https://localhost:8080/"
        },
        "id": "YEHwSCbl1HdL",
        "outputId": "1d9715dd-41af-4665-a58c-2514ddaa2ca5"
      },
      "execution_count": null,
      "outputs": [
        {
          "output_type": "execute_result",
          "data": {
            "text/plain": [
              "0    0.574944\n",
              "1    0.425056\n",
              "Name: home_owner, dtype: float64"
            ]
          },
          "metadata": {},
          "execution_count": 75
        }
      ]
    },
    {
      "cell_type": "code",
      "source": [
        "plt.figure(figsize=(8,6))\n",
        "df['home_owner'].value_counts().plot(kind='bar')\n",
        "plt.title('Distribution Of Home Owners');"
      ],
      "metadata": {
        "colab": {
          "base_uri": "https://localhost:8080/",
          "height": 386
        },
        "id": "L5s26vNZ1N53",
        "outputId": "1ad20d2f-f8f2-4976-e444-5bbd327509aa"
      },
      "execution_count": null,
      "outputs": [
        {
          "output_type": "display_data",
          "data": {
            "text/plain": [
              "<Figure size 576x432 with 1 Axes>"
            ],
            "image/png": "[encoded data removed]"
          },
          "metadata": {
            "needs_background": "light"
          }
        }
      ]
    },
    {
      "cell_type": "code",
      "source": [
        "# Exploring the months employed column\n",
        "df['months_employed'].nunique() "
      ],
      "metadata": {
        "id": "pg7s4tTTSyJE",
        "colab": {
          "base_uri": "https://localhost:8080/"
        },
        "outputId": "749d9bfe-2128-44dd-ab15-4d22d03525ff"
      },
      "execution_count": null,
      "outputs": [
        {
          "output_type": "execute_result",
          "data": {
            "text/plain": [
              "12"
            ]
          },
          "metadata": {},
          "execution_count": 77
        }
      ]
    },
    {
      "cell_type": "code",
      "source": [
        "df['months_employed'].value_counts(normalize=True)"
      ],
      "metadata": {
        "id": "cqHrNtpEFxI1",
        "colab": {
          "base_uri": "https://localhost:8080/"
        },
        "outputId": "2ebc907b-f89c-4139-f0eb-85e64e1ae833"
      },
      "execution_count": null,
      "outputs": [
        {
          "output_type": "execute_result",
          "data": {
            "text/plain": [
              "0     0.737376\n",
              "5     0.054650\n",
              "6     0.047779\n",
              "1     0.047299\n",
              "2     0.028284\n",
              "3     0.022531\n",
              "4     0.017018\n",
              "9     0.012544\n",
              "7     0.011585\n",
              "10    0.011505\n",
              "8     0.006951\n",
              "11    0.002477\n",
              "Name: months_employed, dtype: float64"
            ]
          },
          "metadata": {},
          "execution_count": 78
        }
      ]
    },
    {
      "cell_type": "code",
      "source": [
        "plt.figure(figsize=(8,6))\n",
        "df['months_employed'].value_counts().plot(kind='bar')\n",
        "plt.xlabel('Month count')\n",
        "plt.title('Distribution Of The Number Of Months Worked');\n"
      ],
      "metadata": {
        "id": "ryXsFBkdEoKI",
        "colab": {
          "base_uri": "https://localhost:8080/",
          "height": 407
        },
        "outputId": "74fe9888-4cb2-40bc-d6e0-eb70d5528771"
      },
      "execution_count": null,
      "outputs": [
        {
          "output_type": "display_data",
          "data": {
            "text/plain": [
              "<Figure size 576x432 with 1 Axes>"
            ],
            "image/png": "[encoded data removed]"
          },
          "metadata": {
            "needs_background": "light"
          }
        }
      ]
    },
    {
      "cell_type": "code",
      "source": [
        "# Exploring the years_employed column\n",
        "df['years_employed'].value_counts()"
      ],
      "metadata": {
        "id": "339eRxmHbnOp",
        "colab": {
          "base_uri": "https://localhost:8080/"
        },
        "outputId": "c28d09c9-0161-4fb3-b750-b5b78baaf424"
      },
      "execution_count": null,
      "outputs": [
        {
          "output_type": "execute_result",
          "data": {
            "text/plain": [
              "2     2684\n",
              "3     2481\n",
              "1     1692\n",
              "5     1383\n",
              "6     1372\n",
              "4     1315\n",
              "0      484\n",
              "7      424\n",
              "9      265\n",
              "10     206\n",
              "8      155\n",
              "11      30\n",
              "12      12\n",
              "13       6\n",
              "14       3\n",
              "15       2\n",
              "16       2\n",
              "Name: years_employed, dtype: int64"
            ]
          },
          "metadata": {},
          "execution_count": 80
        }
      ]
    },
    {
      "cell_type": "code",
      "source": [
        "plt.figure(figsize=(8,6))\n",
        "df['years_employed'].hist(bins=15)\n",
        "plt.xlabel('Number of Years')\n",
        "plt.title('Distribution Of The Number Of Years Worked');"
      ],
      "metadata": {
        "id": "w3nICkIWK-KO",
        "colab": {
          "base_uri": "https://localhost:8080/",
          "height": 404
        },
        "outputId": "b6013c89-f6a0-4c9c-f078-45294be770b7"
      },
      "execution_count": null,
      "outputs": [
        {
          "output_type": "display_data",
          "data": {
            "text/plain": [
              "<Figure size 576x432 with 1 Axes>"
            ],
            "image/png": "[encoded data removed]"
          },
          "metadata": {
            "needs_background": "light"
          }
        }
      ]
    },
    {
      "cell_type": "code",
      "source": [
        "# Exploring the current_address_year column\n",
        "df['current_address_year'].value_counts()"
      ],
      "metadata": {
        "colab": {
          "base_uri": "https://localhost:8080/"
        },
        "id": "9LDaN-Qm2UBd",
        "outputId": "c2e3990c-94d8-47f4-cef6-50ce9e75408d"
      },
      "execution_count": null,
      "outputs": [
        {
          "output_type": "execute_result",
          "data": {
            "text/plain": [
              "2     2542\n",
              "1     1941\n",
              "3     1885\n",
              "4     1394\n",
              "0     1029\n",
              "5      916\n",
              "6      860\n",
              "9      484\n",
              "8      466\n",
              "7      422\n",
              "10     414\n",
              "11     158\n",
              "12       5\n",
              "Name: current_address_year, dtype: int64"
            ]
          },
          "metadata": {},
          "execution_count": 82
        }
      ]
    },
    {
      "cell_type": "code",
      "source": [
        "plt.figure(figsize=(8,7))\n",
        "df['current_address_year'].hist(bins=12)\n",
        "plt.xlabel('Years')\n",
        "plt.title('Distribution Of Years Lived In An Address');"
      ],
      "metadata": {
        "colab": {
          "base_uri": "https://localhost:8080/",
          "height": 458
        },
        "id": "gBE4iFtW3dxc",
        "outputId": "78d4f666-6952-492c-c52b-71a4b57fc6ff"
      },
      "execution_count": null,
      "outputs": [
        {
          "output_type": "display_data",
          "data": {
            "text/plain": [
              "<Figure size 576x504 with 1 Axes>"
            ],
            "image/png": "[encoded data removed]"
          },
          "metadata": {
            "needs_background": "light"
          }
        }
      ]
    },
    {
      "cell_type": "code",
      "source": [
        "# Exploring the personal_account_m column\n",
        "df['personal_account_m'].value_counts()"
      ],
      "metadata": {
        "colab": {
          "base_uri": "https://localhost:8080/"
        },
        "id": "sRDBW-nCsZi3",
        "outputId": "68d67618-730e-4e10-e415-2505dda01ebc"
      },
      "execution_count": null,
      "outputs": [
        {
          "output_type": "execute_result",
          "data": {
            "text/plain": [
              "2     4268\n",
              "1     1991\n",
              "6     1638\n",
              "3     1152\n",
              "4     1077\n",
              "5      938\n",
              "7      802\n",
              "9      248\n",
              "0      184\n",
              "8      143\n",
              "10      42\n",
              "11      33\n",
              "Name: personal_account_m, dtype: int64"
            ]
          },
          "metadata": {},
          "execution_count": 84
        }
      ]
    },
    {
      "cell_type": "code",
      "source": [
        "plt.figure(figsize=(8,6))\n",
        "df['personal_account_m'].hist(bins=11)\n",
        "plt.xlabel('Month Count')\n",
        "plt.title('Frequency Of the Amount Of Months On A Job');"
      ],
      "metadata": {
        "colab": {
          "base_uri": "https://localhost:8080/",
          "height": 404
        },
        "id": "sKrZpOp4snqI",
        "outputId": "ae9d473c-bb62-47ff-df40-75e9bc83251a"
      },
      "execution_count": null,
      "outputs": [
        {
          "output_type": "display_data",
          "data": {
            "text/plain": [
              "<Figure size 576x432 with 1 Axes>"
            ],
            "image/png": "[encoded data removed]"
          },
          "metadata": {
            "needs_background": "light"
          }
        }
      ]
    },
    {
      "cell_type": "code",
      "source": [
        "# Exploring The personal_account_y column\n",
        "df['personal_account_y'].unique() "
      ],
      "metadata": {
        "id": "pwJx9zGVS_jO",
        "colab": {
          "base_uri": "https://localhost:8080/"
        },
        "outputId": "79e38c50-b99d-4b7c-8b02-a39f0db3118b"
      },
      "execution_count": null,
      "outputs": [
        {
          "output_type": "execute_result",
          "data": {
            "text/plain": [
              "array([ 2,  8,  7,  6,  1,  4,  0,  3,  5,  9, 10, 11, 12, 14, 13])"
            ]
          },
          "metadata": {},
          "execution_count": 86
        }
      ]
    },
    {
      "cell_type": "code",
      "source": [
        "plt.figure(figsize=(8,6))\n",
        "df['personal_account_y'].value_counts().plot(kind='bar')\n",
        "plt.xlabel('Number of Years')\n",
        "plt.title('Distribution of Personal Accounts Held By Year');"
      ],
      "metadata": {
        "id": "a7f3ewJZLd5C",
        "colab": {
          "base_uri": "https://localhost:8080/",
          "height": 407
        },
        "outputId": "bc9df758-1a9b-466e-c026-05dfe4423606"
      },
      "execution_count": null,
      "outputs": [
        {
          "output_type": "display_data",
          "data": {
            "text/plain": [
              "<Figure size 576x432 with 1 Axes>"
            ],
            "image/png": "[encoded data removed]"
          },
          "metadata": {
            "needs_background": "light"
          }
        }
      ]
    },
    {
      "cell_type": "code",
      "source": [
        "# Exploring Applicants with Debt\n",
        "df['has_debt'].value_counts(normalize=True)"
      ],
      "metadata": {
        "colab": {
          "base_uri": "https://localhost:8080/"
        },
        "id": "V9hd7jex4M_s",
        "outputId": "d6774230-dddb-4cdf-8a85-2065796b33f0"
      },
      "execution_count": null,
      "outputs": [
        {
          "output_type": "execute_result",
          "data": {
            "text/plain": [
              "1    0.795462\n",
              "0    0.204538\n",
              "Name: has_debt, dtype: float64"
            ]
          },
          "metadata": {},
          "execution_count": 88
        }
      ]
    },
    {
      "cell_type": "code",
      "source": [
        "plt.figure(figsize=(8,6))\n",
        "df['has_debt'].value_counts().plot(kind='bar')\n",
        "plt.title('Applicants With Debt');"
      ],
      "metadata": {
        "colab": {
          "base_uri": "https://localhost:8080/",
          "height": 386
        },
        "id": "ewryQ1584Mkp",
        "outputId": "2a37f040-8b4f-43ef-e83a-678cf3ca91a8"
      },
      "execution_count": null,
      "outputs": [
        {
          "output_type": "display_data",
          "data": {
            "text/plain": [
              "<Figure size 576x432 with 1 Axes>"
            ],
            "image/png": "[encoded data removed]"
          },
          "metadata": {
            "needs_background": "light"
          }
        }
      ]
    },
    {
      "cell_type": "code",
      "source": [
        "# Exploring the income column\n",
        "df['income'].nunique()"
      ],
      "metadata": {
        "id": "stGsu39KTs0e",
        "colab": {
          "base_uri": "https://localhost:8080/"
        },
        "outputId": "1c524221-d102-43e2-92f9-54ae75054f66"
      },
      "execution_count": null,
      "outputs": [
        {
          "output_type": "execute_result",
          "data": {
            "text/plain": [
              "1940"
            ]
          },
          "metadata": {},
          "execution_count": 90
        }
      ]
    },
    {
      "cell_type": "code",
      "source": [
        "plt.figure(figsize=(8,6))\n",
        "df['income'].hist(bins=35)\n",
        "plt.xlabel('Incomes')\n",
        "plt.title('Distribution Of Applicants Income');"
      ],
      "metadata": {
        "id": "yu4mR51fUw9g",
        "colab": {
          "base_uri": "https://localhost:8080/",
          "height": 404
        },
        "outputId": "a03be00e-fbc0-44e2-ea46-0c55c497e27e"
      },
      "execution_count": null,
      "outputs": [
        {
          "output_type": "display_data",
          "data": {
            "text/plain": [
              "<Figure size 576x432 with 1 Axes>"
            ],
            "image/png": "[encoded data removed]"
          },
          "metadata": {
            "needs_background": "light"
          }
        }
      ]
    },
    {
      "cell_type": "code",
      "source": [
        "# Exploring the amounts requested column\n",
        "df['amount_requested'].nunique()"
      ],
      "metadata": {
        "colab": {
          "base_uri": "https://localhost:8080/"
        },
        "id": "JgS1TbvC5nBe",
        "outputId": "5adb98e9-56c5-4f6e-e340-20eb082abb8b"
      },
      "execution_count": null,
      "outputs": [
        {
          "output_type": "execute_result",
          "data": {
            "text/plain": [
              "93"
            ]
          },
          "metadata": {},
          "execution_count": 92
        }
      ]
    },
    {
      "cell_type": "code",
      "source": [
        "plt.figure(figsize=(8,6))\n",
        "df['amount_requested'].hist(bins=30)\n",
        "plt.xlabel('Amounts')\n",
        "plt.ylabel('Frequency')\n",
        "plt.title('Distribution Of Amounts Requested By Applicants');"
      ],
      "metadata": {
        "colab": {
          "base_uri": "https://localhost:8080/",
          "height": 404
        },
        "id": "MBtvL8Z356e-",
        "outputId": "6ed8e5f3-f83a-4cf7-9451-bf1139f96816"
      },
      "execution_count": null,
      "outputs": [
        {
          "output_type": "display_data",
          "data": {
            "text/plain": [
              "<Figure size 576x432 with 1 Axes>"
            ],
            "image/png": "[encoded data removed]"
          },
          "metadata": {
            "needs_background": "light"
          }
        }
      ]
    },
    {
      "cell_type": "code",
      "source": [
        "# Exploring the risk score columns\n",
        "df['risk_score'].max()"
      ],
      "metadata": {
        "id": "V8OtIg9DVcSk",
        "colab": {
          "base_uri": "https://localhost:8080/"
        },
        "outputId": "c2095d39-b14a-4003-a6c1-4c5ae487e818"
      },
      "execution_count": null,
      "outputs": [
        {
          "output_type": "execute_result",
          "data": {
            "text/plain": [
              "99750"
            ]
          },
          "metadata": {},
          "execution_count": 94
        }
      ]
    },
    {
      "cell_type": "code",
      "source": [
        "plt.figure(figsize=(8,6))\n",
        "df['risk_score'].hist(bins=25)\n",
        "plt.xlabel('Risk Scores (Over 100_000)')\n",
        "plt.ylabel('Frequency')\n",
        "plt.title('Distribution Of The First Individual Risk');"
      ],
      "metadata": {
        "id": "Fk8AVpwGMIbc",
        "colab": {
          "base_uri": "https://localhost:8080/",
          "height": 405
        },
        "outputId": "c5be1371-36b2-42fd-dfc4-9e231f9149e0"
      },
      "execution_count": null,
      "outputs": [
        {
          "output_type": "display_data",
          "data": {
            "text/plain": [
              "<Figure size 576x432 with 1 Axes>"
            ],
            "image/png": "[encoded data removed]"
          },
          "metadata": {
            "needs_background": "light"
          }
        }
      ]
    },
    {
      "cell_type": "code",
      "source": [
        "df['risk_score_2'].value_counts()"
      ],
      "metadata": {
        "colab": {
          "base_uri": "https://localhost:8080/"
        },
        "id": "10qNS47lx8Zz",
        "outputId": "8397c191-ca50-490b-ca1b-849a002279ce"
      },
      "execution_count": null,
      "outputs": [
        {
          "output_type": "execute_result",
          "data": {
            "text/plain": [
              "0.767217    3\n",
              "0.632271    3\n",
              "0.747897    3\n",
              "0.738754    3\n",
              "0.633695    2\n",
              "           ..\n",
              "0.711855    1\n",
              "0.379054    1\n",
              "0.703792    1\n",
              "0.661945    1\n",
              "0.720889    1\n",
              "Name: risk_score_2, Length: 12307, dtype: int64"
            ]
          },
          "metadata": {},
          "execution_count": 96
        }
      ]
    },
    {
      "cell_type": "code",
      "source": [
        "plt.figure(figsize=(8,6))\n",
        "df['risk_score_2'].hist(bins=25)\n",
        "plt.xlabel('Risk Ratio')\n",
        "plt.ylabel('Frequency')\n",
        "plt.title('Distribution Of The Second Individual Risk');"
      ],
      "metadata": {
        "colab": {
          "base_uri": "https://localhost:8080/",
          "height": 404
        },
        "id": "4Hc0bF-0yShI",
        "outputId": "2a9d96d3-9960-4da6-ba2d-557200a43f4c"
      },
      "execution_count": null,
      "outputs": [
        {
          "output_type": "display_data",
          "data": {
            "text/plain": [
              "<Figure size 576x432 with 1 Axes>"
            ],
            "image/png": "[encoded data removed]"
          },
          "metadata": {
            "needs_background": "light"
          }
        }
      ]
    },
    {
      "cell_type": "code",
      "source": [
        "df['risk_score_3'].value_counts()"
      ],
      "metadata": {
        "colab": {
          "base_uri": "https://localhost:8080/"
        },
        "id": "NxM9aqDNx8RX",
        "outputId": "b120383a-59d2-4fbb-d03c-6f8f85bca8aa"
      },
      "execution_count": null,
      "outputs": [
        {
          "output_type": "execute_result",
          "data": {
            "text/plain": [
              "0.881105    22\n",
              "0.881150    19\n",
              "0.881139    19\n",
              "0.881184    19\n",
              "0.901228    19\n",
              "            ..\n",
              "0.957331     1\n",
              "0.730730     1\n",
              "0.961820     1\n",
              "0.768899     1\n",
              "0.792344     1\n",
              "Name: risk_score_3, Length: 3548, dtype: int64"
            ]
          },
          "metadata": {},
          "execution_count": 98
        }
      ]
    },
    {
      "cell_type": "code",
      "source": [
        "plt.figure(figsize=(8,6))\n",
        "df['risk_score_3'].hist(bins=30)\n",
        "plt.xlabel('Risk Ratio')\n",
        "plt.ylabel('Frequency')\n",
        "plt.title('Distribution Of The Third Individual Risk');"
      ],
      "metadata": {
        "colab": {
          "base_uri": "https://localhost:8080/",
          "height": 404
        },
        "id": "KPvkd-sMyTsW",
        "outputId": "3b58bf2c-b678-44df-b2fc-16a9b8d31ab3"
      },
      "execution_count": null,
      "outputs": [
        {
          "output_type": "display_data",
          "data": {
            "text/plain": [
              "<Figure size 576x432 with 1 Axes>"
            ],
            "image/png": "[encoded data removed]"
          },
          "metadata": {
            "needs_background": "light"
          }
        }
      ]
    },
    {
      "cell_type": "code",
      "source": [
        "df['risk_score_4'].value_counts()"
      ],
      "metadata": {
        "colab": {
          "base_uri": "https://localhost:8080/"
        },
        "id": "qUbO-vBdx8Jn",
        "outputId": "6e0304c1-1484-4954-ddf2-0c845fe02d5d"
      },
      "execution_count": null,
      "outputs": [
        {
          "output_type": "execute_result",
          "data": {
            "text/plain": [
              "0.620901    3\n",
              "0.632928    3\n",
              "0.511171    3\n",
              "0.579644    2\n",
              "0.645493    2\n",
              "           ..\n",
              "0.629553    1\n",
              "0.712733    1\n",
              "0.756180    1\n",
              "0.660615    1\n",
              "0.505565    1\n",
              "Name: risk_score_4, Length: 12388, dtype: int64"
            ]
          },
          "metadata": {},
          "execution_count": 100
        }
      ]
    },
    {
      "cell_type": "code",
      "source": [
        "plt.figure(figsize=(8,6))\n",
        "df['risk_score_4'].hist(bins=25)\n",
        "plt.xlabel('Risk Ratio')\n",
        "plt.ylabel('Frequency')\n",
        "plt.title('Distribution Of Fourth Individual Risk');"
      ],
      "metadata": {
        "colab": {
          "base_uri": "https://localhost:8080/",
          "height": 404
        },
        "id": "j5Q3R11Bx8D5",
        "outputId": "38691ab3-e0e8-42cb-d964-1d4b3df350d6"
      },
      "execution_count": null,
      "outputs": [
        {
          "output_type": "display_data",
          "data": {
            "text/plain": [
              "<Figure size 576x432 with 1 Axes>"
            ],
            "image/png": "[encoded data removed]"
          },
          "metadata": {
            "needs_background": "light"
          }
        }
      ]
    },
    {
      "cell_type": "code",
      "source": [
        "df['risk_score_5'].value_counts()"
      ],
      "metadata": {
        "colab": {
          "base_uri": "https://localhost:8080/"
        },
        "id": "0r68_Y-tzCSN",
        "outputId": "c0262ccf-242e-4e4f-8b4f-fecb193d8ddc"
      },
      "execution_count": null,
      "outputs": [
        {
          "output_type": "execute_result",
          "data": {
            "text/plain": [
              "0.762209    2\n",
              "0.694211    2\n",
              "0.736693    2\n",
              "0.690971    2\n",
              "0.752331    2\n",
              "           ..\n",
              "0.514227    1\n",
              "0.631740    1\n",
              "0.706874    1\n",
              "0.926594    1\n",
              "0.631619    1\n",
              "Name: risk_score_5, Length: 12339, dtype: int64"
            ]
          },
          "metadata": {},
          "execution_count": 102
        }
      ]
    },
    {
      "cell_type": "code",
      "source": [
        "plt.figure(figsize=(8,6))\n",
        "df['risk_score_5'].hist(bins=25)\n",
        "plt.xlabel('Risk Ratio')\n",
        "plt.ylabel('Frequency')\n",
        "plt.title('Distribution Of The Fifth Individual Risk');"
      ],
      "metadata": {
        "colab": {
          "base_uri": "https://localhost:8080/",
          "height": 404
        },
        "id": "FG8AI43cx79h",
        "outputId": "e5cad1d5-6019-436d-9f15-8075250f6ab2"
      },
      "execution_count": null,
      "outputs": [
        {
          "output_type": "display_data",
          "data": {
            "text/plain": [
              "<Figure size 576x432 with 1 Axes>"
            ],
            "image/png": "[encoded data removed]"
          },
          "metadata": {
            "needs_background": "light"
          }
        }
      ]
    },
    {
      "cell_type": "code",
      "source": [
        "# Exploring the inquiries_last_month column\n",
        "df['inquiries_last_month'].nunique() "
      ],
      "metadata": {
        "id": "O3EFX1tCWPXn",
        "colab": {
          "base_uri": "https://localhost:8080/"
        },
        "outputId": "8469b186-4f85-4e18-85fd-e33907919135"
      },
      "execution_count": null,
      "outputs": [
        {
          "output_type": "execute_result",
          "data": {
            "text/plain": [
              "30"
            ]
          },
          "metadata": {},
          "execution_count": 104
        }
      ]
    },
    {
      "cell_type": "code",
      "source": [
        "plt.figure(figsize=(8,6))\n",
        "df['inquiries_last_month'].hist()\n",
        "plt.xlabel('Enquiries')\n",
        "plt.title('Spread Of The Enquiries Made In a Month');"
      ],
      "metadata": {
        "colab": {
          "base_uri": "https://localhost:8080/",
          "height": 404
        },
        "id": "P0X80fvsz8fY",
        "outputId": "f0ca1c1f-936a-4fad-c48b-b33ebcbef495"
      },
      "execution_count": null,
      "outputs": [
        {
          "output_type": "display_data",
          "data": {
            "text/plain": [
              "<Figure size 576x432 with 1 Axes>"
            ],
            "image/png": "[encoded data removed]"
          },
          "metadata": {
            "needs_background": "light"
          }
        }
      ]
    },
    {
      "cell_type": "code",
      "source": [
        "# Exploring the target variable\n",
        "df['e_signed'].value_counts() "
      ],
      "metadata": {
        "id": "fKzxhpbCWnaW",
        "colab": {
          "base_uri": "https://localhost:8080/"
        },
        "outputId": "ba626c6a-207d-4bfc-9069-0a00cec6827b"
      },
      "execution_count": null,
      "outputs": [
        {
          "output_type": "execute_result",
          "data": {
            "text/plain": [
              "1    6766\n",
              "0    5750\n",
              "Name: e_signed, dtype: int64"
            ]
          },
          "metadata": {},
          "execution_count": 106
        }
      ]
    },
    {
      "cell_type": "code",
      "source": [
        "plt.figure(figsize=(8,6))\n",
        "df['e_signed'].value_counts().plot(kind='bar')\n",
        "plt.ylabel('Count')\n",
        "plt.title('Distribution Of Completed Applications');"
      ],
      "metadata": {
        "id": "gaJzbyxUT7jL",
        "colab": {
          "base_uri": "https://localhost:8080/",
          "height": 386
        },
        "outputId": "8ab5d24f-b4a9-46fe-c62e-c5f1ef3c655c"
      },
      "execution_count": null,
      "outputs": [
        {
          "output_type": "display_data",
          "data": {
            "text/plain": [
              "<Figure size 576x432 with 1 Axes>"
            ],
            "image/png": "[encoded data removed]"
          },
          "metadata": {
            "needs_background": "light"
          }
        }
      ]
    },
    {
      "cell_type": "code",
      "source": [
        "sns.scatterplot(x='income', y='amount_requested', data=df)\n",
        "plt.title('Relationship Between Income and Amount Requested');"
      ],
      "metadata": {
        "id": "c1WLka1oXJpZ",
        "colab": {
          "base_uri": "https://localhost:8080/",
          "height": 295
        },
        "outputId": "aa586987-3648-417b-b6f4-be5630b3caf3"
      },
      "execution_count": null,
      "outputs": [
        {
          "output_type": "display_data",
          "data": {
            "text/plain": [
              "<Figure size 432x288 with 1 Axes>"
            ],
            "image/png": "[encoded data removed]"
          },
          "metadata": {
            "needs_background": "light"
          }
        }
      ]
    },
    {
      "cell_type": "code",
      "source": [
        "sns.scatterplot(x='age', y='income', data=df)\n",
        "plt.title('Relationship Between Age and Income');"
      ],
      "metadata": {
        "id": "n40N1k1vXRkL",
        "colab": {
          "base_uri": "https://localhost:8080/",
          "height": 295
        },
        "outputId": "9e82ff62-06ae-4ec1-92cb-ca6ade0afe82"
      },
      "execution_count": null,
      "outputs": [
        {
          "output_type": "display_data",
          "data": {
            "text/plain": [
              "<Figure size 432x288 with 1 Axes>"
            ],
            "image/png": "[encoded data removed]"
          },
          "metadata": {
            "needs_background": "light"
          }
        }
      ]
    },
    {
      "cell_type": "code",
      "source": [
        "sns.boxplot(x='home_owner', y='age', data=df)\n",
        "plt.title('Relationship Between Age and Home Owner');"
      ],
      "metadata": {
        "id": "K-Pg4EtWZzhv",
        "colab": {
          "base_uri": "https://localhost:8080/",
          "height": 296
        },
        "outputId": "51f568c3-8ada-4858-deae-9509e7e2c4ea"
      },
      "execution_count": null,
      "outputs": [
        {
          "output_type": "display_data",
          "data": {
            "text/plain": [
              "<Figure size 432x288 with 1 Axes>"
            ],
            "image/png": "[encoded data removed]"
          },
          "metadata": {
            "needs_background": "light"
          }
        }
      ]
    },
    {
      "cell_type": "code",
      "source": [
        "sns.scatterplot(x='years_employed', y='income', data=df)\n",
        "plt.title('Relationship Between Years Employed and Income');"
      ],
      "metadata": {
        "id": "llKaooLIbXva",
        "colab": {
          "base_uri": "https://localhost:8080/",
          "height": 296
        },
        "outputId": "340d7743-21f0-4369-af98-4060e1a73b29"
      },
      "execution_count": null,
      "outputs": [
        {
          "output_type": "display_data",
          "data": {
            "text/plain": [
              "<Figure size 432x288 with 1 Axes>"
            ],
            "image/png": "[encoded data removed]"
          },
          "metadata": {
            "needs_background": "light"
          }
        }
      ]
    },
    {
      "cell_type": "code",
      "source": [
        "plt.figure(figsize=(15,8))\n",
        "sns.heatmap(df.corr())\n",
        "plt.title('Correlation Between The Columns');"
      ],
      "metadata": {
        "id": "mNsQEOmRb6HU",
        "colab": {
          "base_uri": "https://localhost:8080/",
          "height": 597
        },
        "outputId": "c74bdce9-bf03-4723-ddbc-2bc5197e10c9"
      },
      "execution_count": null,
      "outputs": [
        {
          "output_type": "display_data",
          "data": {
            "text/plain": [
              "<Figure size 1080x576 with 2 Axes>"
            ],
            "image/png": "[encoded data removed]"
          },
          "metadata": {
            "needs_background": "light"
          }
        }
      ]
    },
    {
      "cell_type": "code",
      "source": [
        "# Showing the individual correlations between each column\n",
        "df.corr()"
      ],
      "metadata": {
        "id": "ppGb1qRwcMO-",
        "colab": {
          "base_uri": "https://localhost:8080/",
          "height": 741
        },
        "outputId": "88d705ea-f9d5-43be-8f02-ac1fe067de30"
      },
      "execution_count": null,
      "outputs": [
        {
          "output_type": "execute_result",
          "data": {
            "text/plain": [
              "                      Entry_id       age  home_owner    income  \\\n",
              "Entry_id              1.000000  0.001674   -0.002344 -0.013507   \n",
              "age                   0.001674  1.000000    0.133687  0.173751   \n",
              "home_owner           -0.002344  0.133687    1.000000  0.147731   \n",
              "income               -0.013507  0.173751    0.147731  1.000000   \n",
              "months_employed       0.014661 -0.101626    0.018484 -0.044470   \n",
              "years_employed       -0.008881  0.181711    0.023364  0.097195   \n",
              "current_address_year -0.002746  0.146980    0.177688  0.048199   \n",
              "personal_account_m    0.001546 -0.009237    0.010494  0.011379   \n",
              "personal_account_y   -0.011615  0.043375   -0.044700  0.001863   \n",
              "has_debt              0.009282 -0.039205   -0.086891 -0.016620   \n",
              "amount_requested     -0.002112  0.088569    0.039704  0.296007   \n",
              "risk_score           -0.003692  0.169701    0.110235  0.176333   \n",
              "risk_score_2          0.006861 -0.019758   -0.000833 -0.010499   \n",
              "risk_score_3         -0.017663  0.113279    0.047717  0.062654   \n",
              "risk_score_4          0.004465  0.064497   -0.147547  0.002825   \n",
              "risk_score_5         -0.002202  0.099304   -0.085380  0.026979   \n",
              "ext_quality_score     0.004144  0.034433    0.013117 -0.003207   \n",
              "ext_quality_score_2   0.002180  0.037925    0.005813  0.000577   \n",
              "inquiries_last_month -0.003409  0.046362    0.014225  0.049533   \n",
              "e_signed             -0.004522 -0.084775   -0.054786  0.039160   \n",
              "\n",
              "                      months_employed  years_employed  current_address_year  \\\n",
              "Entry_id                     0.014661       -0.008881             -0.002746   \n",
              "age                         -0.101626        0.181711              0.146980   \n",
              "home_owner                   0.018484        0.023364              0.177688   \n",
              "income                      -0.044470        0.097195              0.048199   \n",
              "months_employed              1.000000       -0.194144             -0.055271   \n",
              "years_employed              -0.194144        1.000000              0.339631   \n",
              "current_address_year        -0.055271        0.339631              1.000000   \n",
              "personal_account_m           0.207739       -0.053152              0.081847   \n",
              "personal_account_y          -0.023665        0.185619              0.116587   \n",
              "has_debt                    -0.004871       -0.001882              0.015887   \n",
              "amount_requested            -0.043417        0.094241              0.067214   \n",
              "risk_score                  -0.041778        0.096123              0.086974   \n",
              "risk_score_2                 0.031067       -0.060066             -0.064426   \n",
              "risk_score_3                -0.032631        0.067584              0.047827   \n",
              "risk_score_4                -0.013331       -0.032767             -0.157666   \n",
              "risk_score_5                -0.026016       -0.006258             -0.098582   \n",
              "ext_quality_score           -0.006963        0.009021              0.003250   \n",
              "ext_quality_score_2         -0.000484        0.036350              0.012006   \n",
              "inquiries_last_month        -0.021979        0.008185              0.015498   \n",
              "e_signed                    -0.000714        0.009607             -0.016873   \n",
              "\n",
              "                      personal_account_m  personal_account_y  has_debt  \\\n",
              "Entry_id                        0.001546           -0.011615  0.009282   \n",
              "age                            -0.009237            0.043375 -0.039205   \n",
              "home_owner                      0.010494           -0.044700 -0.086891   \n",
              "income                          0.011379            0.001863 -0.016620   \n",
              "months_employed                 0.207739           -0.023665 -0.004871   \n",
              "years_employed                 -0.053152            0.185619 -0.001882   \n",
              "current_address_year            0.081847            0.116587  0.015887   \n",
              "personal_account_m              1.000000           -0.143268  0.245035   \n",
              "personal_account_y             -0.143268            1.000000 -0.029645   \n",
              "has_debt                        0.245035           -0.029645  1.000000   \n",
              "amount_requested               -0.042454            0.051882 -0.008441   \n",
              "risk_score                     -0.045303            0.013564 -0.029361   \n",
              "risk_score_2                   -0.027033            0.027299 -0.038540   \n",
              "risk_score_3                    0.021609            0.073417  0.000377   \n",
              "risk_score_4                   -0.060572            0.013644  0.010143   \n",
              "risk_score_5                   -0.031058            0.049019  0.009387   \n",
              "ext_quality_score              -0.028694            0.041922 -0.022883   \n",
              "ext_quality_score_2            -0.012365            0.038524 -0.006583   \n",
              "inquiries_last_month           -0.018642            0.010592  0.008539   \n",
              "e_signed                       -0.088811           -0.025547  0.032952   \n",
              "\n",
              "                      amount_requested  risk_score  risk_score_2  \\\n",
              "Entry_id                     -0.002112   -0.003692      0.006861   \n",
              "age                           0.088569    0.169701     -0.019758   \n",
              "home_owner                    0.039704    0.110235     -0.000833   \n",
              "income                        0.296007    0.176333     -0.010499   \n",
              "months_employed              -0.043417   -0.041778      0.031067   \n",
              "years_employed                0.094241    0.096123     -0.060066   \n",
              "current_address_year          0.067214    0.086974     -0.064426   \n",
              "personal_account_m           -0.042454   -0.045303     -0.027033   \n",
              "personal_account_y            0.051882    0.013564      0.027299   \n",
              "has_debt                     -0.008441   -0.029361     -0.038540   \n",
              "amount_requested              1.000000    0.291016      0.007397   \n",
              "risk_score                    0.291016    1.000000      0.213145   \n",
              "risk_score_2                  0.007397    0.213145      1.000000   \n",
              "risk_score_3                  0.052377    0.099622      0.183195   \n",
              "risk_score_4                  0.062586    0.115621      0.224979   \n",
              "risk_score_5                  0.073372    0.130006      0.229172   \n",
              "ext_quality_score             0.027035    0.103552      0.210772   \n",
              "ext_quality_score_2           0.032841    0.106679      0.198172   \n",
              "inquiries_last_month         -0.036641   -0.266299     -0.217230   \n",
              "e_signed                      0.064944    0.082468      0.010032   \n",
              "\n",
              "                      risk_score_3  risk_score_4  risk_score_5  \\\n",
              "Entry_id                 -0.017663      0.004465     -0.002202   \n",
              "age                       0.113279      0.064497      0.099304   \n",
              "home_owner                0.047717     -0.147547     -0.085380   \n",
              "income                    0.062654      0.002825      0.026979   \n",
              "months_employed          -0.032631     -0.013331     -0.026016   \n",
              "years_employed            0.067584     -0.032767     -0.006258   \n",
              "current_address_year      0.047827     -0.157666     -0.098582   \n",
              "personal_account_m        0.021609     -0.060572     -0.031058   \n",
              "personal_account_y        0.073417      0.013644      0.049019   \n",
              "has_debt                  0.000377      0.010143      0.009387   \n",
              "amount_requested          0.052377      0.062586      0.073372   \n",
              "risk_score                0.099622      0.115621      0.130006   \n",
              "risk_score_2              0.183195      0.224979      0.229172   \n",
              "risk_score_3              1.000000      0.163886      0.478213   \n",
              "risk_score_4              0.163886      1.000000      0.585909   \n",
              "risk_score_5              0.478213      0.585909      1.000000   \n",
              "ext_quality_score         0.257891      0.248139      0.291352   \n",
              "ext_quality_score_2       0.265341      0.234005      0.282420   \n",
              "inquiries_last_month     -0.044728     -0.033884     -0.021691   \n",
              "e_signed                 -0.028525      0.007270     -0.005864   \n",
              "\n",
              "                      ext_quality_score  ext_quality_score_2  \\\n",
              "Entry_id                       0.004144             0.002180   \n",
              "age                            0.034433             0.037925   \n",
              "home_owner                     0.013117             0.005813   \n",
              "income                        -0.003207             0.000577   \n",
              "months_employed               -0.006963            -0.000484   \n",
              "years_employed                 0.009021             0.036350   \n",
              "current_address_year           0.003250             0.012006   \n",
              "personal_account_m            -0.028694            -0.012365   \n",
              "personal_account_y             0.041922             0.038524   \n",
              "has_debt                      -0.022883            -0.006583   \n",
              "amount_requested               0.027035             0.032841   \n",
              "risk_score                     0.103552             0.106679   \n",
              "risk_score_2                   0.210772             0.198172   \n",
              "risk_score_3                   0.257891             0.265341   \n",
              "risk_score_4                   0.248139             0.234005   \n",
              "risk_score_5                   0.291352             0.282420   \n",
              "ext_quality_score              1.000000             0.362358   \n",
              "ext_quality_score_2            0.362358             1.000000   \n",
              "inquiries_last_month          -0.088726            -0.095113   \n",
              "e_signed                      -0.029381            -0.021148   \n",
              "\n",
              "                      inquiries_last_month  e_signed  \n",
              "Entry_id                         -0.003409 -0.004522  \n",
              "age                               0.046362 -0.084775  \n",
              "home_owner                        0.014225 -0.054786  \n",
              "income                            0.049533  0.039160  \n",
              "months_employed                  -0.021979 -0.000714  \n",
              "years_employed                    0.008185  0.009607  \n",
              "current_address_year              0.015498 -0.016873  \n",
              "personal_account_m               -0.018642 -0.088811  \n",
              "personal_account_y                0.010592 -0.025547  \n",
              "has_debt                          0.008539  0.032952  \n",
              "amount_requested                 -0.036641  0.064944  \n",
              "risk_score                       -0.266299  0.082468  \n",
              "risk_score_2                     -0.217230  0.010032  \n",
              "risk_score_3                     -0.044728 -0.028525  \n",
              "risk_score_4                     -0.033884  0.007270  \n",
              "risk_score_5                     -0.021691 -0.005864  \n",
              "ext_quality_score                -0.088726 -0.029381  \n",
              "ext_quality_score_2              -0.095113 -0.021148  \n",
              "inquiries_last_month              1.000000 -0.031749  \n",
              "e_signed                         -0.031749  1.000000  "
            ],
            "text/html": [
              "\n",
              "  <div id=\"df-a238f031-9cbb-461a-b3ed-b9d5b54759a9\">\n",
              "    <div class=\"colab-df-container\">\n",
              "      <div>\n",
              "<style scoped>\n",
              "    .dataframe tbody tr th:only-of-type {\n",
              "        vertical-align: middle;\n",
              "    }\n",
              "\n",
              "    .dataframe tbody tr th {\n",
              "        vertical-align: top;\n",
              "    }\n",
              "\n",
              "    .dataframe thead th {\n",
              "        text-align: right;\n",
              "    }\n",
              "</style>\n",
              "<table border=\"1\" class=\"dataframe\">\n",
              "  <thead>\n",
              "    <tr style=\"text-align: right;\">\n",
              "      <th></th>\n",
              "      <th>Entry_id</th>\n",
              "      <th>age</th>\n",
              "      <th>home_owner</th>\n",
              "      <th>income</th>\n",
              "      <th>months_employed</th>\n",
              "      <th>years_employed</th>\n",
              "      <th>current_address_year</th>\n",
              "      <th>personal_account_m</th>\n",
              "      <th>personal_account_y</th>\n",
              "      <th>has_debt</th>\n",
              "      <th>amount_requested</th>\n",
              "      <th>risk_score</th>\n",
              "      <th>risk_score_2</th>\n",
              "      <th>risk_score_3</th>\n",
              "      <th>risk_score_4</th>\n",
              "      <th>risk_score_5</th>\n",
              "      <th>ext_quality_score</th>\n",
              "      <th>ext_quality_score_2</th>\n",
              "      <th>inquiries_last_month</th>\n",
              "      <th>e_signed</th>\n",
              "    </tr>\n",
              "  </thead>\n",
              "  <tbody>\n",
              "    <tr>\n",
              "      <th>Entry_id</th>\n",
              "      <td>1.000000</td>\n",
              "      <td>0.001674</td>\n",
              "      <td>-0.002344</td>\n",
              "      <td>-0.013507</td>\n",
              "      <td>0.014661</td>\n",
              "      <td>-0.008881</td>\n",
              "      <td>-0.002746</td>\n",
              "      <td>0.001546</td>\n",
              "      <td>-0.011615</td>\n",
              "      <td>0.009282</td>\n",
              "      <td>-0.002112</td>\n",
              "      <td>-0.003692</td>\n",
              "      <td>0.006861</td>\n",
              "      <td>-0.017663</td>\n",
              "      <td>0.004465</td>\n",
              "      <td>-0.002202</td>\n",
              "      <td>0.004144</td>\n",
              "      <td>0.002180</td>\n",
              "      <td>-0.003409</td>\n",
              "      <td>-0.004522</td>\n",
              "    </tr>\n",
              "    <tr>\n",
              "      <th>age</th>\n",
              "      <td>0.001674</td>\n",
              "      <td>1.000000</td>\n",
              "      <td>0.133687</td>\n",
              "      <td>0.173751</td>\n",
              "      <td>-0.101626</td>\n",
              "      <td>0.181711</td>\n",
              "      <td>0.146980</td>\n",
              "      <td>-0.009237</td>\n",
              "      <td>0.043375</td>\n",
              "      <td>-0.039205</td>\n",
              "      <td>0.088569</td>\n",
              "      <td>0.169701</td>\n",
              "      <td>-0.019758</td>\n",
              "      <td>0.113279</td>\n",
              "      <td>0.064497</td>\n",
              "      <td>0.099304</td>\n",
              "      <td>0.034433</td>\n",
              "      <td>0.037925</td>\n",
              "      <td>0.046362</td>\n",
              "      <td>-0.084775</td>\n",
              "    </tr>\n",
              "    <tr>\n",
              "      <th>home_owner</th>\n",
              "      <td>-0.002344</td>\n",
              "      <td>0.133687</td>\n",
              "      <td>1.000000</td>\n",
              "      <td>0.147731</td>\n",
              "      <td>0.018484</td>\n",
              "      <td>0.023364</td>\n",
              "      <td>0.177688</td>\n",
              "      <td>0.010494</td>\n",
              "      <td>-0.044700</td>\n",
              "      <td>-0.086891</td>\n",
              "      <td>0.039704</td>\n",
              "      <td>0.110235</td>\n",
              "      <td>-0.000833</td>\n",
              "      <td>0.047717</td>\n",
              "      <td>-0.147547</td>\n",
              "      <td>-0.085380</td>\n",
              "      <td>0.013117</td>\n",
              "      <td>0.005813</td>\n",
              "      <td>0.014225</td>\n",
              "      <td>-0.054786</td>\n",
              "    </tr>\n",
              "    <tr>\n",
              "      <th>income</th>\n",
              "      <td>-0.013507</td>\n",
              "      <td>0.173751</td>\n",
              "      <td>0.147731</td>\n",
              "      <td>1.000000</td>\n",
              "      <td>-0.044470</td>\n",
              "      <td>0.097195</td>\n",
              "      <td>0.048199</td>\n",
              "      <td>0.011379</td>\n",
              "      <td>0.001863</td>\n",
              "      <td>-0.016620</td>\n",
              "      <td>0.296007</td>\n",
              "      <td>0.176333</td>\n",
              "      <td>-0.010499</td>\n",
              "      <td>0.062654</td>\n",
              "      <td>0.002825</td>\n",
              "      <td>0.026979</td>\n",
              "      <td>-0.003207</td>\n",
              "      <td>0.000577</td>\n",
              "      <td>0.049533</td>\n",
              "      <td>0.039160</td>\n",
              "    </tr>\n",
              "    <tr>\n",
              "      <th>months_employed</th>\n",
              "      <td>0.014661</td>\n",
              "      <td>-0.101626</td>\n",
              "      <td>0.018484</td>\n",
              "      <td>-0.044470</td>\n",
              "      <td>1.000000</td>\n",
              "      <td>-0.194144</td>\n",
              "      <td>-0.055271</td>\n",
              "      <td>0.207739</td>\n",
              "      <td>-0.023665</td>\n",
              "      <td>-0.004871</td>\n",
              "      <td>-0.043417</td>\n",
              "      <td>-0.041778</td>\n",
              "      <td>0.031067</td>\n",
              "      <td>-0.032631</td>\n",
              "      <td>-0.013331</td>\n",
              "      <td>-0.026016</td>\n",
              "      <td>-0.006963</td>\n",
              "      <td>-0.000484</td>\n",
              "      <td>-0.021979</td>\n",
              "      <td>-0.000714</td>\n",
              "    </tr>\n",
              "    <tr>\n",
              "      <th>years_employed</th>\n",
              "      <td>-0.008881</td>\n",
              "      <td>0.181711</td>\n",
              "      <td>0.023364</td>\n",
              "      <td>0.097195</td>\n",
              "      <td>-0.194144</td>\n",
              "      <td>1.000000</td>\n",
              "      <td>0.339631</td>\n",
              "      <td>-0.053152</td>\n",
              "      <td>0.185619</td>\n",
              "      <td>-0.001882</td>\n",
              "      <td>0.094241</td>\n",
              "      <td>0.096123</td>\n",
              "      <td>-0.060066</td>\n",
              "      <td>0.067584</td>\n",
              "      <td>-0.032767</td>\n",
              "      <td>-0.006258</td>\n",
              "      <td>0.009021</td>\n",
              "      <td>0.036350</td>\n",
              "      <td>0.008185</td>\n",
              "      <td>0.009607</td>\n",
              "    </tr>\n",
              "    <tr>\n",
              "      <th>current_address_year</th>\n",
              "      <td>-0.002746</td>\n",
              "      <td>0.146980</td>\n",
              "      <td>0.177688</td>\n",
              "      <td>0.048199</td>\n",
              "      <td>-0.055271</td>\n",
              "      <td>0.339631</td>\n",
              "      <td>1.000000</td>\n",
              "      <td>0.081847</td>\n",
              "      <td>0.116587</td>\n",
              "      <td>0.015887</td>\n",
              "      <td>0.067214</td>\n",
              "      <td>0.086974</td>\n",
              "      <td>-0.064426</td>\n",
              "      <td>0.047827</td>\n",
              "      <td>-0.157666</td>\n",
              "      <td>-0.098582</td>\n",
              "      <td>0.003250</td>\n",
              "      <td>0.012006</td>\n",
              "      <td>0.015498</td>\n",
              "      <td>-0.016873</td>\n",
              "    </tr>\n",
              "    <tr>\n",
              "      <th>personal_account_m</th>\n",
              "      <td>0.001546</td>\n",
              "      <td>-0.009237</td>\n",
              "      <td>0.010494</td>\n",
              "      <td>0.011379</td>\n",
              "      <td>0.207739</td>\n",
              "      <td>-0.053152</td>\n",
              "      <td>0.081847</td>\n",
              "      <td>1.000000</td>\n",
              "      <td>-0.143268</td>\n",
              "      <td>0.245035</td>\n",
              "      <td>-0.042454</td>\n",
              "      <td>-0.045303</td>\n",
              "      <td>-0.027033</td>\n",
              "      <td>0.021609</td>\n",
              "      <td>-0.060572</td>\n",
              "      <td>-0.031058</td>\n",
              "      <td>-0.028694</td>\n",
              "      <td>-0.012365</td>\n",
              "      <td>-0.018642</td>\n",
              "      <td>-0.088811</td>\n",
              "    </tr>\n",
              "    <tr>\n",
              "      <th>personal_account_y</th>\n",
              "      <td>-0.011615</td>\n",
              "      <td>0.043375</td>\n",
              "      <td>-0.044700</td>\n",
              "      <td>0.001863</td>\n",
              "      <td>-0.023665</td>\n",
              "      <td>0.185619</td>\n",
              "      <td>0.116587</td>\n",
              "      <td>-0.143268</td>\n",
              "      <td>1.000000</td>\n",
              "      <td>-0.029645</td>\n",
              "      <td>0.051882</td>\n",
              "      <td>0.013564</td>\n",
              "      <td>0.027299</td>\n",
              "      <td>0.073417</td>\n",
              "      <td>0.013644</td>\n",
              "      <td>0.049019</td>\n",
              "      <td>0.041922</td>\n",
              "      <td>0.038524</td>\n",
              "      <td>0.010592</td>\n",
              "      <td>-0.025547</td>\n",
              "    </tr>\n",
              "    <tr>\n",
              "      <th>has_debt</th>\n",
              "      <td>0.009282</td>\n",
              "      <td>-0.039205</td>\n",
              "      <td>-0.086891</td>\n",
              "      <td>-0.016620</td>\n",
              "      <td>-0.004871</td>\n",
              "      <td>-0.001882</td>\n",
              "      <td>0.015887</td>\n",
              "      <td>0.245035</td>\n",
              "      <td>-0.029645</td>\n",
              "      <td>1.000000</td>\n",
              "      <td>-0.008441</td>\n",
              "      <td>-0.029361</td>\n",
              "      <td>-0.038540</td>\n",
              "      <td>0.000377</td>\n",
              "      <td>0.010143</td>\n",
              "      <td>0.009387</td>\n",
              "      <td>-0.022883</td>\n",
              "      <td>-0.006583</td>\n",
              "      <td>0.008539</td>\n",
              "      <td>0.032952</td>\n",
              "    </tr>\n",
              "    <tr>\n",
              "      <th>amount_requested</th>\n",
              "      <td>-0.002112</td>\n",
              "      <td>0.088569</td>\n",
              "      <td>0.039704</td>\n",
              "      <td>0.296007</td>\n",
              "      <td>-0.043417</td>\n",
              "      <td>0.094241</td>\n",
              "      <td>0.067214</td>\n",
              "      <td>-0.042454</td>\n",
              "      <td>0.051882</td>\n",
              "      <td>-0.008441</td>\n",
              "      <td>1.000000</td>\n",
              "      <td>0.291016</td>\n",
              "      <td>0.007397</td>\n",
              "      <td>0.052377</td>\n",
              "      <td>0.062586</td>\n",
              "      <td>0.073372</td>\n",
              "      <td>0.027035</td>\n",
              "      <td>0.032841</td>\n",
              "      <td>-0.036641</td>\n",
              "      <td>0.064944</td>\n",
              "    </tr>\n",
              "    <tr>\n",
              "      <th>risk_score</th>\n",
              "      <td>-0.003692</td>\n",
              "      <td>0.169701</td>\n",
              "      <td>0.110235</td>\n",
              "      <td>0.176333</td>\n",
              "      <td>-0.041778</td>\n",
              "      <td>0.096123</td>\n",
              "      <td>0.086974</td>\n",
              "      <td>-0.045303</td>\n",
              "      <td>0.013564</td>\n",
              "      <td>-0.029361</td>\n",
              "      <td>0.291016</td>\n",
              "      <td>1.000000</td>\n",
              "      <td>0.213145</td>\n",
              "      <td>0.099622</td>\n",
              "      <td>0.115621</td>\n",
              "      <td>0.130006</td>\n",
              "      <td>0.103552</td>\n",
              "      <td>0.106679</td>\n",
              "      <td>-0.266299</td>\n",
              "      <td>0.082468</td>\n",
              "    </tr>\n",
              "    <tr>\n",
              "      <th>risk_score_2</th>\n",
              "      <td>0.006861</td>\n",
              "      <td>-0.019758</td>\n",
              "      <td>-0.000833</td>\n",
              "      <td>-0.010499</td>\n",
              "      <td>0.031067</td>\n",
              "      <td>-0.060066</td>\n",
              "      <td>-0.064426</td>\n",
              "      <td>-0.027033</td>\n",
              "      <td>0.027299</td>\n",
              "      <td>-0.038540</td>\n",
              "      <td>0.007397</td>\n",
              "      <td>0.213145</td>\n",
              "      <td>1.000000</td>\n",
              "      <td>0.183195</td>\n",
              "      <td>0.224979</td>\n",
              "      <td>0.229172</td>\n",
              "      <td>0.210772</td>\n",
              "      <td>0.198172</td>\n",
              "      <td>-0.217230</td>\n",
              "      <td>0.010032</td>\n",
              "    </tr>\n",
              "    <tr>\n",
              "      <th>risk_score_3</th>\n",
              "      <td>-0.017663</td>\n",
              "      <td>0.113279</td>\n",
              "      <td>0.047717</td>\n",
              "      <td>0.062654</td>\n",
              "      <td>-0.032631</td>\n",
              "      <td>0.067584</td>\n",
              "      <td>0.047827</td>\n",
              "      <td>0.021609</td>\n",
              "      <td>0.073417</td>\n",
              "      <td>0.000377</td>\n",
              "      <td>0.052377</td>\n",
              "      <td>0.099622</td>\n",
              "      <td>0.183195</td>\n",
              "      <td>1.000000</td>\n",
              "      <td>0.163886</td>\n",
              "      <td>0.478213</td>\n",
              "      <td>0.257891</td>\n",
              "      <td>0.265341</td>\n",
              "      <td>-0.044728</td>\n",
              "      <td>-0.028525</td>\n",
              "    </tr>\n",
              "    <tr>\n",
              "      <th>risk_score_4</th>\n",
              "      <td>0.004465</td>\n",
              "      <td>0.064497</td>\n",
              "      <td>-0.147547</td>\n",
              "      <td>0.002825</td>\n",
              "      <td>-0.013331</td>\n",
              "      <td>-0.032767</td>\n",
              "      <td>-0.157666</td>\n",
              "      <td>-0.060572</td>\n",
              "      <td>0.013644</td>\n",
              "      <td>0.010143</td>\n",
              "      <td>0.062586</td>\n",
              "      <td>0.115621</td>\n",
              "      <td>0.224979</td>\n",
              "      <td>0.163886</td>\n",
              "      <td>1.000000</td>\n",
              "      <td>0.585909</td>\n",
              "      <td>0.248139</td>\n",
              "      <td>0.234005</td>\n",
              "      <td>-0.033884</td>\n",
              "      <td>0.007270</td>\n",
              "    </tr>\n",
              "    <tr>\n",
              "      <th>risk_score_5</th>\n",
              "      <td>-0.002202</td>\n",
              "      <td>0.099304</td>\n",
              "      <td>-0.085380</td>\n",
              "      <td>0.026979</td>\n",
              "      <td>-0.026016</td>\n",
              "      <td>-0.006258</td>\n",
              "      <td>-0.098582</td>\n",
              "      <td>-0.031058</td>\n",
              "      <td>0.049019</td>\n",
              "      <td>0.009387</td>\n",
              "      <td>0.073372</td>\n",
              "      <td>0.130006</td>\n",
              "      <td>0.229172</td>\n",
              "      <td>0.478213</td>\n",
              "      <td>0.585909</td>\n",
              "      <td>1.000000</td>\n",
              "      <td>0.291352</td>\n",
              "      <td>0.282420</td>\n",
              "      <td>-0.021691</td>\n",
              "      <td>-0.005864</td>\n",
              "    </tr>\n",
              "    <tr>\n",
              "      <th>ext_quality_score</th>\n",
              "      <td>0.004144</td>\n",
              "      <td>0.034433</td>\n",
              "      <td>0.013117</td>\n",
              "      <td>-0.003207</td>\n",
              "      <td>-0.006963</td>\n",
              "      <td>0.009021</td>\n",
              "      <td>0.003250</td>\n",
              "      <td>-0.028694</td>\n",
              "      <td>0.041922</td>\n",
              "      <td>-0.022883</td>\n",
              "      <td>0.027035</td>\n",
              "      <td>0.103552</td>\n",
              "      <td>0.210772</td>\n",
              "      <td>0.257891</td>\n",
              "      <td>0.248139</td>\n",
              "      <td>0.291352</td>\n",
              "      <td>1.000000</td>\n",
              "      <td>0.362358</td>\n",
              "      <td>-0.088726</td>\n",
              "      <td>-0.029381</td>\n",
              "    </tr>\n",
              "    <tr>\n",
              "      <th>ext_quality_score_2</th>\n",
              "      <td>0.002180</td>\n",
              "      <td>0.037925</td>\n",
              "      <td>0.005813</td>\n",
              "      <td>0.000577</td>\n",
              "      <td>-0.000484</td>\n",
              "      <td>0.036350</td>\n",
              "      <td>0.012006</td>\n",
              "      <td>-0.012365</td>\n",
              "      <td>0.038524</td>\n",
              "      <td>-0.006583</td>\n",
              "      <td>0.032841</td>\n",
              "      <td>0.106679</td>\n",
              "      <td>0.198172</td>\n",
              "      <td>0.265341</td>\n",
              "      <td>0.234005</td>\n",
              "      <td>0.282420</td>\n",
              "      <td>0.362358</td>\n",
              "      <td>1.000000</td>\n",
              "      <td>-0.095113</td>\n",
              "      <td>-0.021148</td>\n",
              "    </tr>\n",
              "    <tr>\n",
              "      <th>inquiries_last_month</th>\n",
              "      <td>-0.003409</td>\n",
              "      <td>0.046362</td>\n",
              "      <td>0.014225</td>\n",
              "      <td>0.049533</td>\n",
              "      <td>-0.021979</td>\n",
              "      <td>0.008185</td>\n",
              "      <td>0.015498</td>\n",
              "      <td>-0.018642</td>\n",
              "      <td>0.010592</td>\n",
              "      <td>0.008539</td>\n",
              "      <td>-0.036641</td>\n",
              "      <td>-0.266299</td>\n",
              "      <td>-0.217230</td>\n",
              "      <td>-0.044728</td>\n",
              "      <td>-0.033884</td>\n",
              "      <td>-0.021691</td>\n",
              "      <td>-0.088726</td>\n",
              "      <td>-0.095113</td>\n",
              "      <td>1.000000</td>\n",
              "      <td>-0.031749</td>\n",
              "    </tr>\n",
              "    <tr>\n",
              "      <th>e_signed</th>\n",
              "      <td>-0.004522</td>\n",
              "      <td>-0.084775</td>\n",
              "      <td>-0.054786</td>\n",
              "      <td>0.039160</td>\n",
              "      <td>-0.000714</td>\n",
              "      <td>0.009607</td>\n",
              "      <td>-0.016873</td>\n",
              "      <td>-0.088811</td>\n",
              "      <td>-0.025547</td>\n",
              "      <td>0.032952</td>\n",
              "      <td>0.064944</td>\n",
              "      <td>0.082468</td>\n",
              "      <td>0.010032</td>\n",
              "      <td>-0.028525</td>\n",
              "      <td>0.007270</td>\n",
              "      <td>-0.005864</td>\n",
              "      <td>-0.029381</td>\n",
              "      <td>-0.021148</td>\n",
              "      <td>-0.031749</td>\n",
              "      <td>1.000000</td>\n",
              "    </tr>\n",
              "  </tbody>\n",
              "</table>\n",
              "</div>\n",
              "      <button class=\"colab-df-convert\" onclick=\"convertToInteractive('df-a238f031-9cbb-461a-b3ed-b9d5b54759a9')\"\n",
              "              title=\"Convert this dataframe to an interactive table.\"\n",
              "              style=\"display:none;\">\n",
              "        \n",
              "  <svg xmlns=\"http://www.w3.org/2000/svg\" height=\"24px\"viewBox=\"0 0 24 24\"\n",
              "       width=\"24px\">\n",
              "    <path d=\"M0 0h24v24H0V0z\" fill=\"none\"/>\n",
              "    <path d=\"M18.56 5.44l.94 2.06.94-2.06 2.06-.94-2.06-.94-.94-2.06-.94 2.06-2.06.94zm-11 1L8.5 8.5l.94-2.06 2.06-.94-2.06-.94L8.5 2.5l-.94 2.06-2.06.94zm10 10l.94 2.06.94-2.06 2.06-.94-2.06-.94-.94-2.06-.94 2.06-2.06.94z\"/><path d=\"M17.41 7.96l-1.37-1.37c-.4-.4-.92-.59-1.43-.59-.52 0-1.04.2-1.43.59L10.3 9.45l-7.72 7.72c-.78.78-.78 2.05 0 2.83L4 21.41c.39.39.9.59 1.41.59.51 0 1.02-.2 1.41-.59l7.78-7.78 2.81-2.81c.8-.78.8-2.07 0-2.86zM5.41 20L4 18.59l7.72-7.72 1.47 1.35L5.41 20z\"/>\n",
              "  </svg>\n",
              "      </button>\n",
              "      \n",
              "  <style>\n",
              "    .colab-df-container {\n",
              "      display:flex;\n",
              "      flex-wrap:wrap;\n",
              "      gap: 12px;\n",
              "    }\n",
              "\n",
              "    .colab-df-convert {\n",
              "      background-color: #E8F0FE;\n",
              "      border: none;\n",
              "      border-radius: 50%;\n",
              "      cursor: pointer;\n",
              "      display: none;\n",
              "      fill: #1967D2;\n",
              "      height: 32px;\n",
              "      padding: 0 0 0 0;\n",
              "      width: 32px;\n",
              "    }\n",
              "\n",
              "    .colab-df-convert:hover {\n",
              "      background-color: #E2EBFA;\n",
              "      box-shadow: 0px 1px 2px rgba(60, 64, 67, 0.3), 0px 1px 3px 1px rgba(60, 64, 67, 0.15);\n",
              "      fill: #174EA6;\n",
              "    }\n",
              "\n",
              "    [theme=dark] .colab-df-convert {\n",
              "      background-color: #3B4455;\n",
              "      fill: #D2E3FC;\n",
              "    }\n",
              "\n",
              "    [theme=dark] .colab-df-convert:hover {\n",
              "      background-color: #434B5C;\n",
              "      box-shadow: 0px 1px 3px 1px rgba(0, 0, 0, 0.15);\n",
              "      filter: drop-shadow(0px 1px 2px rgba(0, 0, 0, 0.3));\n",
              "      fill: #FFFFFF;\n",
              "    }\n",
              "  </style>\n",
              "\n",
              "      <script>\n",
              "        const buttonEl =\n",
              "          document.querySelector('#df-a238f031-9cbb-461a-b3ed-b9d5b54759a9 button.colab-df-convert');\n",
              "        buttonEl.style.display =\n",
              "          google.colab.kernel.accessAllowed ? 'block' : 'none';\n",
              "\n",
              "        async function convertToInteractive(key) {\n",
              "          const element = document.querySelector('#df-a238f031-9cbb-461a-b3ed-b9d5b54759a9');\n",
              "          const dataTable =\n",
              "            await google.colab.kernel.invokeFunction('convertToInteractive',\n",
              "                                                     [key], {});\n",
              "          if (!dataTable) return;\n",
              "\n",
              "          const docLinkHtml = 'Like what you see? Visit the ' +\n",
              "            '<a target=\"_blank\" href=https://colab.research.google.com/notebooks/data_table.ipynb>data table notebook</a>'\n",
              "            + ' to learn more about interactive tables.';\n",
              "          element.innerHTML = '';\n",
              "          dataTable['output_type'] = 'display_data';\n",
              "          await google.colab.output.renderOutput(dataTable, element);\n",
              "          const docLink = document.createElement('div');\n",
              "          docLink.innerHTML = docLinkHtml;\n",
              "          element.appendChild(docLink);\n",
              "        }\n",
              "      </script>\n",
              "    </div>\n",
              "  </div>\n",
              "  "
            ]
          },
          "metadata": {},
          "execution_count": 113
        }
      ]
    },
    {
      "cell_type": "markdown",
      "source": [
        "# Feature Engineering"
      ],
      "metadata": {
        "id": "XCMx_tLfV9Bs"
      }
    },
    {
      "cell_type": "code",
      "source": [
        "# Converting the month variables to years\n",
        "df[\"years_employed\"] = df['years_employed'] + df['months_employed']/12\n",
        "\n",
        "df[\"personal_account_y\"] = df['personal_account_y'] + df['personal_account_m']/12\n",
        "\n"
      ],
      "metadata": {
        "id": "E9oBIa5jWCMf"
      },
      "execution_count": null,
      "outputs": []
    },
    {
      "cell_type": "code",
      "source": [
        "# Calculating the income per year\n",
        "conditions = [\n",
        "    (df[\"pay_schedule\"].eq('bi-weekly')),\n",
        "    (df[\"pay_schedule\"].eq('weekly')),\n",
        "    (df[\"pay_schedule\"].eq('semi-monthly')),\n",
        "    (df[\"pay_schedule\"].eq('monthly')),\n",
        "]\n",
        "\n",
        "choices = [104, 52, 24, 12]\n",
        "\n",
        "df[\"income_rate\"] = np.select(conditions, choices)\n",
        "\n",
        "df[\"income_per_year\"] = df['income'] * df['income_rate']"
      ],
      "metadata": {
        "id": "m4OS4U2zWX_9"
      },
      "execution_count": null,
      "outputs": []
    },
    {
      "cell_type": "code",
      "source": [
        "# Calculating Total Estiamted earning and Income : Amount Requested\n",
        "df[\"est_earning\"] = df['income'] * df['income_rate'] * df['years_employed']\n",
        "\n",
        "df[\"income_request_ratio\"] = df['income_per_year']/df['amount_requested']\n"
      ],
      "metadata": {
        "id": "csAUOf_uW2mq"
      },
      "execution_count": null,
      "outputs": []
    },
    {
      "cell_type": "code",
      "source": [
        "# adding a variable for years customers have paid rent\n",
        "rent_conditions = [\n",
        "    (df[\"home_owner\"].eq(1)),\n",
        "    (df[\"home_owner\"].eq(0)),\n",
        "]\n",
        "\n",
        "rent_choices = [0, 1]\n",
        "\n",
        "df[\"rent_payer\"] = np.select(rent_conditions, rent_choices)\n",
        "\n",
        "\n",
        "df[\"years_paying_rent\"] = df[\"rent_payer\"] * df[\"current_address_year\"]\n",
        "\n",
        "df[\"years_owned_home\"] = df[\"home_owner\"] * df[\"current_address_year\"]"
      ],
      "metadata": {
        "id": "rOFupsQ7XSAK"
      },
      "execution_count": null,
      "outputs": []
    },
    {
      "cell_type": "code",
      "source": [
        "# Calculating mean risk scores\n",
        "df['mean_risk_score'] = ((df['risk_score']/100000) + df['risk_score_2'] + df['risk_score_3'] + df['risk_score_4'] + df['risk_score_5']) / 5\n",
        "df['mean_ext_quality_score'] = (df['ext_quality_score'] + df['ext_quality_score_2'])/2\n"
      ],
      "metadata": {
        "id": "4wqnepf-XZY_"
      },
      "execution_count": null,
      "outputs": []
    },
    {
      "cell_type": "markdown",
      "source": [
        "# Model Building"
      ],
      "metadata": {
        "id": "Nfe9BoPq8wku"
      }
    },
    {
      "cell_type": "code",
      "source": [
        "# Selecting dependent and independent variables\n",
        "X = df[['age','home_owner', 'income',\n",
        "        'years_employed', 'current_address_year',\n",
        "        'personal_account_y', 'has_debt',\n",
        "        'amount_requested', 'risk_score', 'risk_score_2', \n",
        "        'risk_score_3','risk_score_4', 'risk_score_5',\n",
        "        'ext_quality_score', 'ext_quality_score_2',\n",
        "        'inquiries_last_month', 'income_rate', 'est_earning', \n",
        "        'years_paying_rent', 'years_owned_home','income_request_ratio',\n",
        "        'income_per_year', 'mean_risk_score', 'mean_ext_quality_score']]\n",
        "\n",
        "y = df[['e_signed']]"
      ],
      "metadata": {
        "id": "wPRwuTf7dAjj"
      },
      "execution_count": null,
      "outputs": []
    },
    {
      "cell_type": "code",
      "source": [
        "# Spliiting dataset into training and tests sets\n",
        "from sklearn.model_selection import train_test_split\n",
        "X_train, X_test, y_train, y_test = train_test_split (X, y, test_size = 0.25)\n",
        "\n",
        "# Feature Scaling\n",
        "from sklearn.preprocessing import StandardScaler\n",
        "sc_X = StandardScaler()\n",
        "X_train = sc_X.fit_transform(X_train)\n",
        "X_test = sc_X.transform(X_test)\n"
      ],
      "metadata": {
        "id": "cwz-HPz8RAd-"
      },
      "execution_count": null,
      "outputs": []
    },
    {
      "cell_type": "markdown",
      "source": [
        "**Logistic Regeression**"
      ],
      "metadata": {
        "id": "rHhe-RWIYLtH"
      }
    },
    {
      "cell_type": "code",
      "source": [
        "# Fitting logistic Regressson to thew dataset\n",
        "from sklearn.linear_model import LogisticRegression\n",
        "classifier = LogisticRegression(random_state = 0)\n",
        "classifier.fit(X_train, y_train) \n",
        "\n",
        "# Predicting the Test set Results \n",
        "y_pred = classifier.predict(X_test)\n",
        "\n",
        "# Scoring the algorithm\n",
        "classifier.score(X_test, y_test)\n",
        "\n",
        "# Getting feature importance\n",
        "print(classifier.coef_)\n"
      ],
      "metadata": {
        "id": "JF9CufM4RJZo",
        "colab": {
          "base_uri": "https://localhost:8080/"
        },
        "outputId": "9a4b7fb4-b5ef-4473-cd18-16e9839bbf6c"
      },
      "execution_count": null,
      "outputs": [
        {
          "output_type": "execute_result",
          "data": {
            "text/plain": [
              "0.5730265260466603"
            ]
          },
          "metadata": {},
          "execution_count": 148
        }
      ]
    },
    {
      "cell_type": "code",
      "source": [
        "from sklearn.metrics import classification_report, accuracy_score, confusion_matrix, roc_auc_score, plot_confusion_matrix, plot_precision_recall_curve\n",
        "\n",
        "print(\"The accuracy of logistic regression model is:\", accuracy_score(y_test, y_pred))\n",
        "print(classification_report(y_test, y_pred))"
      ],
      "metadata": {
        "id": "OYGsDTrQa9EB",
        "colab": {
          "base_uri": "https://localhost:8080/"
        },
        "outputId": "9434388d-5967-4bee-bbe7-27168304e9dc"
      },
      "execution_count": null,
      "outputs": [
        {
          "output_type": "stream",
          "name": "stdout",
          "text": [
            "The accuracy of logistic regression model is: 0.5730265260466603\n",
            "              precision    recall  f1-score   support\n",
            "\n",
            "           0       0.55      0.37      0.44      1428\n",
            "           1       0.58      0.74      0.65      1701\n",
            "\n",
            "    accuracy                           0.57      3129\n",
            "   macro avg       0.57      0.56      0.55      3129\n",
            "weighted avg       0.57      0.57      0.56      3129\n",
            "\n"
          ]
        }
      ]
    },
    {
      "cell_type": "markdown",
      "source": [
        "Random Forest"
      ],
      "metadata": {
        "id": "ZJplvNi0YSvY"
      }
    },
    {
      "cell_type": "code",
      "source": [
        "# Importing the random forest library\n",
        "from sklearn.ensemble import RandomForestClassifier\n",
        "\n",
        "# Random Forest\n",
        "forest = RandomForestClassifier()\n",
        "classifier_forest = forest.fit(X_train, y_train)\n",
        "\n",
        "\n",
        "# Scoring the algorithm\n",
        "classifier_forest.score(X_test, y_test)"
      ],
      "metadata": {
        "id": "tIOE5_USRfhJ",
        "colab": {
          "base_uri": "https://localhost:8080/"
        },
        "outputId": "e6c0940f-66b5-4af8-ddbe-75115e75f15f"
      },
      "execution_count": null,
      "outputs": [
        {
          "output_type": "stream",
          "name": "stderr",
          "text": [
            "/usr/local/lib/python3.7/dist-packages/ipykernel_launcher.py:6: DataConversionWarning: A column-vector y was passed when a 1d array was expected. Please change the shape of y to (n_samples,), for example using ravel().\n",
            "  \n"
          ]
        },
        {
          "output_type": "execute_result",
          "data": {
            "text/plain": [
              "0.6225631192074145"
            ]
          },
          "metadata": {},
          "execution_count": 152
        }
      ]
    },
    {
      "cell_type": "code",
      "source": [
        "# Hyperparameter tuning for the random forest\n",
        "parameters = {\n",
        "    \"n_estimators\":[100, 200, 300, 500, 1000],\n",
        "    \"max_depth\":[2,4,8,16,32,None]\n",
        "    \n",
        "}\n",
        "\n",
        "from sklearn.model_selection import GridSearchCV\n",
        "cv = GridSearchCV(forest,parameters,cv=5)\n",
        "cv.fit(X_train ,y_train.values.ravel())\n",
        "\n",
        "\n",
        "#Print the Best Parameters\n",
        "def display(results):\n",
        "    print(f'Best parameters are: {results.best_params_}')\n",
        "    print(\"\\n\")\n",
        "    mean_score = results.cv_results_['mean_test_score']\n",
        "    std_score = results.cv_results_['std_test_score']\n",
        "    params = results.cv_results_['params']\n",
        "    for mean,std,params in zip(mean_score,std_score,params):\n",
        "        print(f'{round(mean,3)} + or -{round(std,3)} for the {params}')\n",
        "\n",
        "display(cv)"
      ],
      "metadata": {
        "colab": {
          "base_uri": "https://localhost:8080/"
        },
        "id": "xLMRe8wHaRUx",
        "outputId": "1b203e68-8be3-4b66-88d7-ca0023fca94a"
      },
      "execution_count": null,
      "outputs": [
        {
          "output_type": "stream",
          "name": "stdout",
          "text": [
            "Best parameters are: {'max_depth': 16, 'n_estimators': 1000}\n",
            "\n",
            "\n",
            "0.556 + or -0.005 for the {'max_depth': 2, 'n_estimators': 100}\n",
            "0.553 + or -0.003 for the {'max_depth': 2, 'n_estimators': 200}\n",
            "0.554 + or -0.005 for the {'max_depth': 2, 'n_estimators': 300}\n",
            "0.555 + or -0.002 for the {'max_depth': 2, 'n_estimators': 500}\n",
            "0.554 + or -0.004 for the {'max_depth': 2, 'n_estimators': 1000}\n",
            "0.591 + or -0.009 for the {'max_depth': 4, 'n_estimators': 100}\n",
            "0.594 + or -0.013 for the {'max_depth': 4, 'n_estimators': 200}\n",
            "0.592 + or -0.011 for the {'max_depth': 4, 'n_estimators': 300}\n",
            "0.594 + or -0.009 for the {'max_depth': 4, 'n_estimators': 500}\n",
            "0.591 + or -0.008 for the {'max_depth': 4, 'n_estimators': 1000}\n",
            "0.612 + or -0.008 for the {'max_depth': 8, 'n_estimators': 100}\n",
            "0.614 + or -0.005 for the {'max_depth': 8, 'n_estimators': 200}\n",
            "0.618 + or -0.008 for the {'max_depth': 8, 'n_estimators': 300}\n",
            "0.615 + or -0.01 for the {'max_depth': 8, 'n_estimators': 500}\n",
            "0.618 + or -0.006 for the {'max_depth': 8, 'n_estimators': 1000}\n",
            "0.614 + or -0.003 for the {'max_depth': 16, 'n_estimators': 100}\n",
            "0.615 + or -0.008 for the {'max_depth': 16, 'n_estimators': 200}\n",
            "0.619 + or -0.004 for the {'max_depth': 16, 'n_estimators': 300}\n",
            "0.619 + or -0.008 for the {'max_depth': 16, 'n_estimators': 500}\n",
            "0.621 + or -0.006 for the {'max_depth': 16, 'n_estimators': 1000}\n",
            "0.616 + or -0.008 for the {'max_depth': 32, 'n_estimators': 100}\n",
            "0.611 + or -0.006 for the {'max_depth': 32, 'n_estimators': 200}\n",
            "0.61 + or -0.004 for the {'max_depth': 32, 'n_estimators': 300}\n",
            "0.617 + or -0.003 for the {'max_depth': 32, 'n_estimators': 500}\n",
            "0.617 + or -0.005 for the {'max_depth': 32, 'n_estimators': 1000}\n",
            "0.603 + or -0.009 for the {'max_depth': None, 'n_estimators': 100}\n",
            "0.618 + or -0.006 for the {'max_depth': None, 'n_estimators': 200}\n",
            "0.615 + or -0.002 for the {'max_depth': None, 'n_estimators': 300}\n",
            "0.615 + or -0.006 for the {'max_depth': None, 'n_estimators': 500}\n",
            "0.62 + or -0.004 for the {'max_depth': None, 'n_estimators': 1000}\n"
          ]
        }
      ]
    },
    {
      "cell_type": "code",
      "source": [
        "# Random forest with optimal parameters\n",
        "#Fitting the random forrest classifier\n",
        "forest = RandomForestClassifier(n_estimators=1000, max_depth = 16)\n",
        "classifier_forest = forest.fit(X_train, y_train)\n",
        "\n",
        "# Scoring the classifier\n",
        "classifier_forest.score(X_test, y_test)"
      ],
      "metadata": {
        "colab": {
          "base_uri": "https://localhost:8080/"
        },
        "id": "rEIIDuu4afgZ",
        "outputId": "0449804d-2c50-4b2c-be1b-fdcca1a9189b"
      },
      "execution_count": null,
      "outputs": [
        {
          "output_type": "stream",
          "name": "stderr",
          "text": [
            "/usr/local/lib/python3.7/dist-packages/ipykernel_launcher.py:4: DataConversionWarning: A column-vector y was passed when a 1d array was expected. Please change the shape of y to (n_samples,), for example using ravel().\n",
            "  after removing the cwd from sys.path.\n"
          ]
        },
        {
          "output_type": "execute_result",
          "data": {
            "text/plain": [
              "0.6331096196868009"
            ]
          },
          "metadata": {},
          "execution_count": 134
        }
      ]
    },
    {
      "cell_type": "code",
      "source": [
        "# Selecting the most important features\n",
        "from sklearn.feature_selection import SelectFromModel\n",
        "sel = SelectFromModel(RandomForestClassifier(n_estimators=1000, max_depth = 16))\n",
        "sel.fit(X_train, y_train)"
      ],
      "metadata": {
        "colab": {
          "base_uri": "https://localhost:8080/"
        },
        "id": "nlMxo8SbaH6K",
        "outputId": "fd19bbdc-900c-428f-b277-ac1196be385a"
      },
      "execution_count": null,
      "outputs": [
        {
          "output_type": "stream",
          "name": "stderr",
          "text": [
            "/usr/local/lib/python3.7/dist-packages/sklearn/feature_selection/_from_model.py:267: DataConversionWarning: A column-vector y was passed when a 1d array was expected. Please change the shape of y to (n_samples,), for example using ravel().\n",
            "  self.estimator_.fit(X, y, **fit_params)\n"
          ]
        },
        {
          "output_type": "execute_result",
          "data": {
            "text/plain": [
              "SelectFromModel(estimator=RandomForestClassifier(max_depth=16,\n",
              "                                                 n_estimators=1000))"
            ]
          },
          "metadata": {},
          "execution_count": 136
        }
      ]
    },
    {
      "cell_type": "code",
      "source": [
        "# Finding features with more imortance than the mean importance\n",
        "selected_feat= X.columns[(sel.get_support())]\n",
        "print(selected_feat)"
      ],
      "metadata": {
        "colab": {
          "base_uri": "https://localhost:8080/"
        },
        "id": "s1tFYd-99Gjq",
        "outputId": "7654f617-73ce-49e9-8392-6644018c9f4a"
      },
      "execution_count": null,
      "outputs": [
        {
          "output_type": "stream",
          "name": "stdout",
          "text": [
            "Index(['age', 'income', 'personal_account_y', 'amount_requested', 'risk_score',\n",
            "       'risk_score_2', 'risk_score_3', 'risk_score_4', 'risk_score_5',\n",
            "       'ext_quality_score', 'ext_quality_score_2', 'est_earning',\n",
            "       'income_request_ratio', 'income_per_year', 'mean_risk_score',\n",
            "       'mean_ext_quality_score'],\n",
            "      dtype='object')\n"
          ]
        }
      ]
    },
    {
      "cell_type": "code",
      "source": [
        "# Feature Selection\n",
        "X = df[['age', 'income', 'personal_account_y', 'amount_requested', 'risk_score',\n",
        "       'risk_score_2', 'risk_score_3', 'risk_score_4', 'risk_score_5',\n",
        "       'ext_quality_score', 'ext_quality_score_2', 'est_earning',\n",
        "       'income_request_ratio', 'income_per_year', 'mean_risk_score',\n",
        "       'mean_ext_quality_score']]\n",
        "\n",
        "# Spliiting dataset into training and tests sets\n",
        "from sklearn.model_selection import train_test_split\n",
        "X_train, X_test, y_train, y_test = train_test_split (X, y, test_size = 0.25)\n",
        "\n",
        "# Feature Scaling\n",
        "from sklearn.preprocessing import StandardScaler\n",
        "sc_X = StandardScaler()\n",
        "X_train = pd.DataFrame(sc_X.fit_transform(X_train), columns=X.columns)\n",
        "X_test = pd.DataFrame(sc_X.transform(X_test), columns=X.columns)"
      ],
      "metadata": {
        "id": "5FucKIoAUFkv"
      },
      "execution_count": null,
      "outputs": []
    },
    {
      "cell_type": "code",
      "source": [
        "# Create the classifiers\n",
        "#Fitting the random forrest classifier\n",
        "forest = RandomForestClassifier()\n",
        "classifier_forest = forest.fit(X_train, y_train)\n",
        "\n",
        "# Scroing the classifier\n",
        "classifier_forest.score(X_test, y_test)"
      ],
      "metadata": {
        "colab": {
          "base_uri": "https://localhost:8080/"
        },
        "id": "OKlhsHgZZ3Ff",
        "outputId": "76cabe62-3dc9-4cb4-cd5c-f8a3da957b9c"
      },
      "execution_count": null,
      "outputs": [
        {
          "output_type": "stream",
          "name": "stderr",
          "text": [
            "/usr/local/lib/python3.7/dist-packages/ipykernel_launcher.py:4: DataConversionWarning: A column-vector y was passed when a 1d array was expected. Please change the shape of y to (n_samples,), for example using ravel().\n",
            "  after removing the cwd from sys.path.\n"
          ]
        },
        {
          "output_type": "execute_result",
          "data": {
            "text/plain": [
              "0.6228827101310322"
            ]
          },
          "metadata": {},
          "execution_count": 143
        }
      ]
    },
    {
      "cell_type": "code",
      "source": [
        "# Hyperparameter tuning for the random forest\n",
        "parameters = {\n",
        "    \"n_estimators\":[100, 200, 300, 500, 1000],\n",
        "    \"max_depth\":[2,4,8,16,32,None]\n",
        "    \n",
        "}\n",
        "\n",
        "from sklearn.model_selection import GridSearchCV\n",
        "cv = GridSearchCV(forest,parameters,cv=5)\n",
        "cv.fit(X_train ,y_train.values.ravel())\n",
        "\n",
        "\n",
        "#Print the Best Parameters\n",
        "def display(results):\n",
        "    print(f'Best parameters are: {results.best_params_}')\n",
        "    print(\"\\n\")\n",
        "    mean_score = results.cv_results_['mean_test_score']\n",
        "    std_score = results.cv_results_['std_test_score']\n",
        "    params = results.cv_results_['params']\n",
        "    for mean,std,params in zip(mean_score,std_score,params):\n",
        "        print(f'{round(mean,3)} + or -{round(std,3)} for the {params}')\n",
        "\n",
        "display(cv)"
      ],
      "metadata": {
        "colab": {
          "base_uri": "https://localhost:8080/"
        },
        "outputId": "0e4e852b-b1f1-4e68-bc42-3f8cfd3f256f",
        "id": "soxj7unMhTJ2"
      },
      "execution_count": null,
      "outputs": [
        {
          "output_type": "stream",
          "name": "stdout",
          "text": [
            "Best parameters are: {'max_depth': 16, 'n_estimators': 300}\n",
            "\n",
            "\n",
            "0.565 + or -0.003 for the {'max_depth': 2, 'n_estimators': 100}\n",
            "0.569 + or -0.004 for the {'max_depth': 2, 'n_estimators': 200}\n",
            "0.57 + or -0.004 for the {'max_depth': 2, 'n_estimators': 300}\n",
            "0.567 + or -0.004 for the {'max_depth': 2, 'n_estimators': 500}\n",
            "0.567 + or -0.006 for the {'max_depth': 2, 'n_estimators': 1000}\n",
            "0.599 + or -0.004 for the {'max_depth': 4, 'n_estimators': 100}\n",
            "0.598 + or -0.005 for the {'max_depth': 4, 'n_estimators': 200}\n",
            "0.6 + or -0.004 for the {'max_depth': 4, 'n_estimators': 300}\n",
            "0.601 + or -0.007 for the {'max_depth': 4, 'n_estimators': 500}\n",
            "0.597 + or -0.006 for the {'max_depth': 4, 'n_estimators': 1000}\n",
            "0.618 + or -0.005 for the {'max_depth': 8, 'n_estimators': 100}\n",
            "0.615 + or -0.005 for the {'max_depth': 8, 'n_estimators': 200}\n",
            "0.619 + or -0.006 for the {'max_depth': 8, 'n_estimators': 300}\n",
            "0.62 + or -0.01 for the {'max_depth': 8, 'n_estimators': 500}\n",
            "0.617 + or -0.006 for the {'max_depth': 8, 'n_estimators': 1000}\n",
            "0.619 + or -0.003 for the {'max_depth': 16, 'n_estimators': 100}\n",
            "0.616 + or -0.006 for the {'max_depth': 16, 'n_estimators': 200}\n",
            "0.624 + or -0.006 for the {'max_depth': 16, 'n_estimators': 300}\n",
            "0.619 + or -0.007 for the {'max_depth': 16, 'n_estimators': 500}\n",
            "0.622 + or -0.005 for the {'max_depth': 16, 'n_estimators': 1000}\n",
            "0.612 + or -0.01 for the {'max_depth': 32, 'n_estimators': 100}\n",
            "0.614 + or -0.004 for the {'max_depth': 32, 'n_estimators': 200}\n",
            "0.617 + or -0.006 for the {'max_depth': 32, 'n_estimators': 300}\n",
            "0.616 + or -0.006 for the {'max_depth': 32, 'n_estimators': 500}\n",
            "0.619 + or -0.003 for the {'max_depth': 32, 'n_estimators': 1000}\n",
            "0.615 + or -0.002 for the {'max_depth': None, 'n_estimators': 100}\n",
            "0.616 + or -0.008 for the {'max_depth': None, 'n_estimators': 200}\n",
            "0.619 + or -0.005 for the {'max_depth': None, 'n_estimators': 300}\n",
            "0.622 + or -0.003 for the {'max_depth': None, 'n_estimators': 500}\n",
            "0.62 + or -0.003 for the {'max_depth': None, 'n_estimators': 1000}\n"
          ]
        }
      ]
    },
    {
      "cell_type": "code",
      "source": [
        "# Random forest with optimal parameters\n",
        "#Fitting the random forrest classifier\n",
        "forest = RandomForestClassifier(n_estimators=300, max_depth = 16)\n",
        "classifier_forest = forest.fit(X_train, y_train)\n",
        "\n",
        "\n",
        "classifier_forest.score(X_test, y_test)"
      ],
      "metadata": {
        "colab": {
          "base_uri": "https://localhost:8080/",
          "height": 337
        },
        "id": "pwwRqHl4Dz7L",
        "outputId": "1f4aa891-c63b-43f4-e166-485cafc92917"
      },
      "execution_count": null,
      "outputs": [
        {
          "output_type": "stream",
          "name": "stderr",
          "text": [
            "/usr/local/lib/python3.7/dist-packages/ipykernel_launcher.py:4: DataConversionWarning: A column-vector y was passed when a 1d array was expected. Please change the shape of y to (n_samples,), for example using ravel().\n",
            "  after removing the cwd from sys.path.\n"
          ]
        },
        {
          "output_type": "execute_result",
          "data": {
            "text/plain": [
              "0.614892937040588"
            ]
          },
          "metadata": {},
          "execution_count": 77
        },
        {
          "output_type": "display_data",
          "data": {
            "text/plain": [
              "<Figure size 432x288 with 1 Axes>"
            ],
            "image/png": "[encoded data removed]"
          },
          "metadata": {
            "needs_background": "light"
          }
        }
      ]
    },
    {
      "cell_type": "code",
      "source": [
        "# Evaluationg the random forest model\n",
        "pred_rf = forest.predict(X_test)\n",
        "print(\"The accuracy of this randmom forest model is:\", accuracy_score(y_test, pred_rf))\n",
        "print(classification_report(y_test,pred_rf ))"
      ],
      "metadata": {
        "id": "YttqevBBbWfe",
        "colab": {
          "base_uri": "https://localhost:8080/"
        },
        "outputId": "948d3620-4611-411d-de74-c6308c26dd4d"
      },
      "execution_count": null,
      "outputs": [
        {
          "output_type": "stream",
          "name": "stdout",
          "text": [
            "The accuracy of this randmom forest model is: 0.6164908916586769\n",
            "              precision    recall  f1-score   support\n",
            "\n",
            "           0       0.60      0.51      0.55      1456\n",
            "           1       0.62      0.71      0.66      1673\n",
            "\n",
            "    accuracy                           0.62      3129\n",
            "   macro avg       0.61      0.61      0.61      3129\n",
            "weighted avg       0.62      0.62      0.61      3129\n",
            "\n"
          ]
        }
      ]
    },
    {
      "cell_type": "markdown",
      "source": [
        "**XGBoost**"
      ],
      "metadata": {
        "id": "bPU6--llJPmx"
      }
    },
    {
      "cell_type": "code",
      "source": [
        "# importing the XGBOOST library\n",
        "import xgboost as xgb\n",
        "\n",
        "xgb_clf= xgb.XGBClassifier()\n",
        "\n",
        "#fitting the model\n",
        "xgb_clf.fit(X_train,y_train)\n",
        "## Predicting the model\n",
        "xgb_predict= xgb_clf.predict(X_test)"
      ],
      "metadata": {
        "id": "xxRRMdx7Mm5Q"
      },
      "execution_count": null,
      "outputs": []
    },
    {
      "cell_type": "code",
      "source": [
        "print(\"The accuracy of this XGBoost model is:\", accuracy_score(y_test, xgb_predict))\n",
        "print(classification_report(y_test, xgb_predict))"
      ],
      "metadata": {
        "colab": {
          "base_uri": "https://localhost:8080/"
        },
        "id": "bnmnZMDgNCIS",
        "outputId": "dab26570-a09c-4c3e-9918-b9e5f8fe52b1"
      },
      "execution_count": null,
      "outputs": [
        {
          "output_type": "stream",
          "name": "stdout",
          "text": [
            "The accuracy of this XGBoost model is: 0.6286353467561522\n",
            "              precision    recall  f1-score   support\n",
            "\n",
            "           0       0.63      0.50      0.56      1456\n",
            "           1       0.63      0.74      0.68      1673\n",
            "\n",
            "    accuracy                           0.63      3129\n",
            "   macro avg       0.63      0.62      0.62      3129\n",
            "weighted avg       0.63      0.63      0.62      3129\n",
            "\n"
          ]
        }
      ]
    },
    {
      "cell_type": "code",
      "source": [
        "## Hyper Parameter Optimization\n",
        "\n",
        "params={\n",
        " \"learning_rate\"    : [0.05, 0.10, 0.15, 0.20, 0.25, 0.30 ] ,\n",
        " \"max_depth\"        : [ 3, 4, 5, 6, 8, 10, 12, 15],\n",
        " \"min_child_weight\" : [ 1, 3, 5, 7 ],\n",
        " \"gamma\"            : [ 0.0, 0.1, 0.2 , 0.3, 0.4 ],\n",
        " \"colsample_bytree\" : [ 0.3, 0.4, 0.5 , 0.7 ]\n",
        "    \n",
        "}\n",
        "## Hyperparameter optimization using RandomizedSearchCV\n",
        "from sklearn.model_selection import RandomizedSearchCV, GridSearchCV\n",
        "random_search=RandomizedSearchCV(xgb_clf,param_distributions=params,n_iter=5,scoring='roc_auc',n_jobs=-1,cv=5,verbose=3)\n",
        "\n",
        "# fitting the RandomizedSearchCV\n",
        "random_search.fit(X_train,y_train)"
      ],
      "metadata": {
        "colab": {
          "base_uri": "https://localhost:8080/"
        },
        "id": "Br90UcaPOhQn",
        "outputId": "bc6769f0-ba9f-4abf-e27b-4b2982fe4ad9"
      },
      "execution_count": null,
      "outputs": [
        {
          "output_type": "stream",
          "name": "stdout",
          "text": [
            "Fitting 5 folds for each of 5 candidates, totalling 25 fits\n"
          ]
        },
        {
          "output_type": "stream",
          "name": "stderr",
          "text": [
            "/usr/local/lib/python3.7/dist-packages/sklearn/preprocessing/_label.py:98: DataConversionWarning: A column-vector y was passed when a 1d array was expected. Please change the shape of y to (n_samples, ), for example using ravel().\n",
            "  y = column_or_1d(y, warn=True)\n",
            "/usr/local/lib/python3.7/dist-packages/sklearn/preprocessing/_label.py:133: DataConversionWarning: A column-vector y was passed when a 1d array was expected. Please change the shape of y to (n_samples, ), for example using ravel().\n",
            "  y = column_or_1d(y, warn=True)\n"
          ]
        },
        {
          "output_type": "execute_result",
          "data": {
            "text/plain": [
              "RandomizedSearchCV(cv=5, estimator=XGBClassifier(), n_iter=5, n_jobs=-1,\n",
              "                   param_distributions={'colsample_bytree': [0.3, 0.4, 0.5,\n",
              "                                                             0.7],\n",
              "                                        'gamma': [0.0, 0.1, 0.2, 0.3, 0.4],\n",
              "                                        'learning_rate': [0.05, 0.1, 0.15, 0.2,\n",
              "                                                          0.25, 0.3],\n",
              "                                        'max_depth': [3, 4, 5, 6, 8, 10, 12,\n",
              "                                                      15],\n",
              "                                        'min_child_weight': [1, 3, 5, 7]},\n",
              "                   scoring='roc_auc', verbose=3)"
            ]
          },
          "metadata": {},
          "execution_count": 155
        }
      ]
    },
    {
      "cell_type": "code",
      "source": [
        "# Finding the best estimators\n",
        "random_search.best_estimator_"
      ],
      "metadata": {
        "colab": {
          "base_uri": "https://localhost:8080/"
        },
        "id": "mNdtcA_jOmF8",
        "outputId": "5a0748d1-aa26-4d5e-992d-7f4447aa7e4a"
      },
      "execution_count": null,
      "outputs": [
        {
          "output_type": "execute_result",
          "data": {
            "text/plain": [
              "XGBClassifier(colsample_bytree=0.3, gamma=0.2, min_child_weight=3)"
            ]
          },
          "metadata": {},
          "execution_count": 156
        }
      ]
    },
    {
      "cell_type": "code",
      "source": [
        "# Finding the best param\n",
        "random_search.best_params_"
      ],
      "metadata": {
        "colab": {
          "base_uri": "https://localhost:8080/"
        },
        "id": "LXKVEW2fPUL8",
        "outputId": "62a59f11-1705-4c89-9871-b9c116986ea0"
      },
      "execution_count": null,
      "outputs": [
        {
          "output_type": "execute_result",
          "data": {
            "text/plain": [
              "{'min_child_weight': 7,\n",
              " 'max_depth': 3,\n",
              " 'learning_rate': 0.2,\n",
              " 'gamma': 0.1,\n",
              " 'colsample_bytree': 0.7}"
            ]
          },
          "metadata": {},
          "execution_count": 74
        }
      ]
    },
    {
      "cell_type": "code",
      "source": [
        "# Training the algorithm with optimal parameters\n",
        "xgb_clf_optimized = xgb.XGBClassifier(colsample_bytree=0.3, gamma=0.2, min_child_weight=3)\n",
        "\n",
        "#fitting the model\n",
        "xgb_clf_optimized.fit(X_train,y_train)\n",
        "## Predicting the model\n",
        "xgb_optimized_predict= xgb_clf_optimized.predict(X_test)"
      ],
      "metadata": {
        "id": "IjKSqSBTP9ZJ"
      },
      "execution_count": null,
      "outputs": []
    },
    {
      "cell_type": "code",
      "source": [
        "print(\"The accuracy of this XGBoost model is:\", accuracy_score(y_test, xgb_optimized_predict))\n",
        "print(classification_report(y_test, xgb_optimized_predict))"
      ],
      "metadata": {
        "colab": {
          "base_uri": "https://localhost:8080/"
        },
        "id": "kljBwF9OQ6SZ",
        "outputId": "cd85e719-f314-48fb-adbf-e7992c8943b6"
      },
      "execution_count": null,
      "outputs": [
        {
          "output_type": "stream",
          "name": "stdout",
          "text": [
            "The accuracy of this XGBoost model is: 0.6203259827420902\n",
            "              precision    recall  f1-score   support\n",
            "\n",
            "           0       0.60      0.51      0.55      1436\n",
            "           1       0.63      0.71      0.67      1693\n",
            "\n",
            "    accuracy                           0.62      3129\n",
            "   macro avg       0.62      0.61      0.61      3129\n",
            "weighted avg       0.62      0.62      0.62      3129\n",
            "\n"
          ]
        }
      ]
    },
    {
      "cell_type": "code",
      "source": [
        "test_df = pd.read_csv('test.csv')\n"
      ],
      "metadata": {
        "id": "XLtivAUdV1yP"
      },
      "execution_count": null,
      "outputs": []
    },
    {
      "cell_type": "code",
      "source": [
        "#Feature Enginnering for test set\n",
        "test = test_df\n",
        "\n",
        "# Convertng months tpo years\n",
        "test[\"years_employed\"] = test['years_employed'] + test['months_employed']/12\n",
        "test[\"personal_account_y\"] = test['personal_account_y'] + test['personal_account_m']/12\n",
        "\n",
        "\n",
        "# Convertng pay schedule to income rate and calculating est_earning & income_request_ratio\n",
        "conditions = [\n",
        "    (test[\"pay_schedule\"].eq('bi-weekly')),\n",
        "    (test[\"pay_schedule\"].eq('weekly')),\n",
        "    (test[\"pay_schedule\"].eq('semi-monthly')),\n",
        "    (test[\"pay_schedule\"].eq('monthly')),\n",
        "]\n",
        "\n",
        "choices = [104, 52, 24, 12]\n",
        "\n",
        "test[\"income_rate\"] = np.select(conditions, choices)\n",
        "\n",
        "test[\"income_per_year\"] = test['income'] * test['income_rate']\n",
        "\n",
        "test[\"est_earning\"] = test['income'] * test['income_rate'] * test['years_employed']\n",
        "\n",
        "test[\"income_request_ratio\"] = test['income_per_year']/test['amount_requested']\n",
        "\n",
        "\n"
      ],
      "metadata": {
        "id": "IBvpJ6KFYvLv"
      },
      "execution_count": null,
      "outputs": []
    },
    {
      "cell_type": "code",
      "source": [
        "# Feature Selection\n",
        "test = test[['age', 'income', 'personal_account_y', 'amount_requested', 'risk_score',\n",
        "        'income_request_ratio', 'income_per_year','est_earning']]\n",
        "\n",
        "# Feature Scaling\n",
        "from sklearn.preprocessing import StandardScaler\n",
        "sc_X = StandardScaler()\n",
        "test = pd.DataFrame(sc_X.fit_transform(test), columns=test.columns)"
      ],
      "metadata": {
        "id": "jjxAxZS6YQCC"
      },
      "execution_count": null,
      "outputs": []
    },
    {
      "cell_type": "code",
      "source": [
        "# Predictions for test set\n",
        "test_pred = classifier_forest.predict(test)\n",
        "\n"
      ],
      "metadata": {
        "id": "ohtmVIX1LUB1"
      },
      "execution_count": null,
      "outputs": []
    },
    {
      "cell_type": "code",
      "source": [
        "test_pred = pd.DataFrame(test_pred)\n",
        "entry_id = pd.DataFrame(test_df['Entry_id'])\n",
        "test_results = pd.concat([entry_id, test_pred], axis=\"columns\")\n",
        "\n",
        "\n",
        "test_results.columns = [\"Entry_id\", \"e_signed\"]\n",
        "\n",
        "test_results.to_csv('BahMi_pred.csv', index=False)"
      ],
      "metadata": {
        "id": "5UG6Z9mYV7bL"
      },
      "execution_count": null,
      "outputs": []
    }
  ]
}